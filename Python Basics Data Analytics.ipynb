{
 "cells": [
  {
   "cell_type": "markdown",
   "metadata": {},
   "source": [
    "Python file extension:\n",
    "Python Basics Data Analytics.ipynb\n",
    "\n",
    "|Data Types:| Description|\n",
    "|-----------|------------|\n",
    "| Numerical:|Integer, Float, Double, Complex, Binary|\n",
    "| Character:|String/Object|\n",
    "| Boollean: |True/False, 1/0|\n",
    "\n",
    "\n",
    "Data Structures:\n",
    "- List\n",
    "- Dictionary\n",
    "- Tuple\n",
    "- Set\n",
    "- Array (NumPy)\n",
    "- Series (Pandas)\n",
    "- DataFrame (Pandas)\n",
    "\n",
    "Libraries:\n",
    "- NumPy (Numerical Calculations)\n",
    "- Pandas (For data arranged in table)\n",
    "- Matplotlib (Visualization)\n",
    "- Seaborn (Visualization)\n",
    "- Scikit Learn (Machine Learning)\n",
    "- NLTK (Natural Language Processing)\n",
    "- Tensorflow/Keras (Deep Learning)\n",
    "- Stats (For statistics)\n",
    "\n",
    "\n",
    "| Item         | Price | # In stock |\n",
    "|--------------|:-----:|-----------:|\n",
    "| Apples       |  1.99 |        739 |\n",
    "| Bananas      |  1.89 |          6 |\n",
    "\n",
    "\n",
    "## Usage of brackets\n",
    "\n",
    "- Box Bracket [] : To create a list, or to access any value from a list, tuple, dataframe, array, series or a key from a dictionary, after loc & iloc function in a dataframe\n",
    "\n",
    "- Curve Bracket () : All the functions except loc & iloc are followed by curve bracket.\n",
    "\n",
    "- Flower bracket {} : To create a dictionary or a set data structure"
   ]
  },
  {
   "cell_type": "markdown",
   "metadata": {},
   "source": [
    "# Creating Objects"
   ]
  },
  {
   "cell_type": "code",
   "execution_count": null,
   "metadata": {},
   "outputs": [],
   "source": [
    "a=9"
   ]
  },
  {
   "cell_type": "code",
   "execution_count": null,
   "metadata": {},
   "outputs": [],
   "source": [
    "a"
   ]
  },
  {
   "cell_type": "code",
   "execution_count": null,
   "metadata": {},
   "outputs": [],
   "source": [
    "#Object & Variable"
   ]
  },
  {
   "cell_type": "code",
   "execution_count": null,
   "metadata": {
    "scrolled": true
   },
   "outputs": [],
   "source": [
    "#Creating an object\n",
    "a=5\n",
    "print(a)\n",
    "b=3\n",
    "b"
   ]
  },
  {
   "cell_type": "code",
   "execution_count": null,
   "metadata": {},
   "outputs": [],
   "source": [
    "a=5\n",
    "a\n",
    "b=3\n",
    "b"
   ]
  },
  {
   "cell_type": "code",
   "execution_count": null,
   "metadata": {
    "scrolled": true
   },
   "outputs": [],
   "source": [
    "a=5\n",
    "print(a)\n",
    "b=3\n",
    "print(b)\n",
    "c=6\n",
    "print(c)\n",
    "c"
   ]
  },
  {
   "cell_type": "code",
   "execution_count": null,
   "metadata": {
    "scrolled": true
   },
   "outputs": [],
   "source": [
    "a=5\n",
    "A=2\n",
    "print(A)\n",
    "print(a)"
   ]
  },
  {
   "cell_type": "code",
   "execution_count": null,
   "metadata": {},
   "outputs": [],
   "source": [
    "a=5\n",
    "print(a)\n",
    "b=3\n",
    "print(b)\n",
    "b=8\n",
    "A=2\n",
    "b"
   ]
  },
  {
   "cell_type": "code",
   "execution_count": null,
   "metadata": {},
   "outputs": [],
   "source": [
    "b=3\n",
    "print(b)"
   ]
  },
  {
   "cell_type": "code",
   "execution_count": null,
   "metadata": {},
   "outputs": [],
   "source": [
    "b=4\n",
    "b"
   ]
  },
  {
   "cell_type": "code",
   "execution_count": null,
   "metadata": {},
   "outputs": [],
   "source": [
    "b"
   ]
  },
  {
   "cell_type": "code",
   "execution_count": null,
   "metadata": {},
   "outputs": [],
   "source": [
    "Python=4\n",
    "PYTHON=5\n",
    "python=6\n",
    "\n",
    "print(Python)\n",
    "print(PYTHON)\n",
    "print(python)\n",
    "pYthon"
   ]
  },
  {
   "cell_type": "code",
   "execution_count": null,
   "metadata": {},
   "outputs": [],
   "source": [
    "#id() gives the location number of an object in Python memory\n",
    "A=4\n",
    "print(id(A))\n",
    "A"
   ]
  },
  {
   "cell_type": "code",
   "execution_count": null,
   "metadata": {},
   "outputs": [],
   "source": [
    "del(A)\n",
    "A"
   ]
  },
  {
   "cell_type": "markdown",
   "metadata": {},
   "source": [
    "Data Types\n",
    "\n",
    "- Integer \n",
    "- String\n",
    "- Float\n",
    "- Boollean\n",
    "- Complex\n",
    "- Object"
   ]
  },
  {
   "cell_type": "code",
   "execution_count": null,
   "metadata": {},
   "outputs": [],
   "source": [
    "b='Python'\n",
    "print(b)\n",
    "type(b)"
   ]
  },
  {
   "cell_type": "code",
   "execution_count": null,
   "metadata": {},
   "outputs": [],
   "source": [
    "b=5\n",
    "type(b)"
   ]
  },
  {
   "cell_type": "code",
   "execution_count": null,
   "metadata": {
    "scrolled": true
   },
   "outputs": [],
   "source": [
    "b=5.6\n",
    "type(b)"
   ]
  },
  {
   "cell_type": "code",
   "execution_count": null,
   "metadata": {
    "scrolled": true
   },
   "outputs": [],
   "source": [
    "a=[1,2,3,4,5]\n",
    "b=6 in a\n",
    "c=5 in a\n",
    "print(b)\n",
    "print(c)\n",
    "print(type(c))\n",
    "type(b)"
   ]
  },
  {
   "cell_type": "code",
   "execution_count": null,
   "metadata": {},
   "outputs": [],
   "source": [
    "b=True\n",
    "c='TRUE'\n",
    "d='True'\n",
    "print(type(b))\n",
    "print(type(c))\n",
    "print(type(d))\n",
    "a= False\n",
    "print(type(a))"
   ]
  },
  {
   "cell_type": "code",
   "execution_count": null,
   "metadata": {},
   "outputs": [],
   "source": [
    "a='+91'\n",
    "b='8435815151'\n",
    "a+' '+b\n",
    "print(a+b)"
   ]
  },
  {
   "cell_type": "code",
   "execution_count": null,
   "metadata": {},
   "outputs": [],
   "source": [
    "a = 5\n",
    "print(type(a))\n",
    "type(a)"
   ]
  },
  {
   "cell_type": "code",
   "execution_count": null,
   "metadata": {},
   "outputs": [],
   "source": [
    "b=4.2\n",
    "print(b)\n",
    "print(type(b))"
   ]
  },
  {
   "cell_type": "code",
   "execution_count": null,
   "metadata": {},
   "outputs": [],
   "source": [
    "a = 2.0\n",
    "print(type(a))\n",
    "print(a)"
   ]
  },
  {
   "cell_type": "code",
   "execution_count": null,
   "metadata": {},
   "outputs": [],
   "source": [
    "b=7\n",
    "print(b)\n",
    "print(id(b))\n",
    "b=8\n",
    "print(b)\n",
    "print(id(b))\n",
    "print(type(b))\n",
    "a=b+b\n",
    "a"
   ]
  },
  {
   "cell_type": "code",
   "execution_count": null,
   "metadata": {},
   "outputs": [],
   "source": [
    "a = 1+2j\n",
    "type(a)"
   ]
  },
  {
   "cell_type": "code",
   "execution_count": null,
   "metadata": {},
   "outputs": [],
   "source": [
    "a = \"Python\"\n",
    "print(type(a))\n",
    "#ID Function is used to return the identity of an object\n",
    "#This identity has to be unique and constant for this object.\n",
    "#They are actually the memory address, here in Python it is the unique id. \n",
    "#This function is generally used internally in Python.\n",
    "print(id(a))\n",
    "print(a)"
   ]
  },
  {
   "cell_type": "code",
   "execution_count": null,
   "metadata": {},
   "outputs": [],
   "source": [
    "DS=5\n",
    "print(DS)\n",
    "Python=10\n",
    "print(Python)\n",
    "\n",
    "DS='Python'\n",
    "print(DS)\n",
    "DS=Python\n",
    "print(DS)"
   ]
  },
  {
   "cell_type": "code",
   "execution_count": null,
   "metadata": {},
   "outputs": [],
   "source": [
    "a = 15\n",
    "print(id(a))\n",
    "type(a)"
   ]
  },
  {
   "cell_type": "code",
   "execution_count": null,
   "metadata": {},
   "outputs": [],
   "source": [
    "a=15\n",
    "print(a)\n",
    "del(a)\n",
    "print(a)"
   ]
  },
  {
   "cell_type": "markdown",
   "metadata": {},
   "source": [
    "# Data Structures\n",
    "- List\n",
    "- Tuples\n",
    "- Dictionary\n",
    "- Set\n",
    "- Dataframe (Pandas)\n",
    "- Array (Numpy)\n",
    "- Series (Pandas)"
   ]
  },
  {
   "cell_type": "markdown",
   "metadata": {},
   "source": [
    "# List"
   ]
  },
  {
   "cell_type": "code",
   "execution_count": null,
   "metadata": {},
   "outputs": [],
   "source": [
    "list1 = ['Python', 'Java', 2013, 2018,[1,2,3,4], 54.3, 89.2, 8+5j, 3+4j,True,False]"
   ]
  },
  {
   "cell_type": "code",
   "execution_count": null,
   "metadata": {},
   "outputs": [],
   "source": [
    "list1"
   ]
  },
  {
   "cell_type": "code",
   "execution_count": null,
   "metadata": {},
   "outputs": [],
   "source": [
    "print(list1)"
   ]
  },
  {
   "cell_type": "code",
   "execution_count": null,
   "metadata": {},
   "outputs": [],
   "source": [
    "list1[3]"
   ]
  },
  {
   "cell_type": "code",
   "execution_count": null,
   "metadata": {},
   "outputs": [],
   "source": [
    "list1[0]"
   ]
  },
  {
   "cell_type": "code",
   "execution_count": null,
   "metadata": {},
   "outputs": [],
   "source": [
    "list1[7]"
   ]
  },
  {
   "cell_type": "code",
   "execution_count": null,
   "metadata": {},
   "outputs": [],
   "source": [
    "list1[10]"
   ]
  },
  {
   "cell_type": "code",
   "execution_count": null,
   "metadata": {},
   "outputs": [],
   "source": [
    "list1[4][1]"
   ]
  },
  {
   "cell_type": "code",
   "execution_count": null,
   "metadata": {},
   "outputs": [],
   "source": [
    "list2=[1,51,9,8,1,201,534,4,[8,4,101,2,[5,4,891,91,6,3,4],3,600],[8,9,685,5,4,1,[72,808,52]]]"
   ]
  },
  {
   "cell_type": "code",
   "execution_count": null,
   "metadata": {},
   "outputs": [],
   "source": [
    "print(list2[8][2])\n",
    "list2[8][2]=201\n",
    "print(list2)"
   ]
  },
  {
   "cell_type": "code",
   "execution_count": null,
   "metadata": {},
   "outputs": [],
   "source": [
    "list1 = ['Python', 'Python', 2013, 2018,[1,2,3,['c','d',9],4]]"
   ]
  },
  {
   "cell_type": "code",
   "execution_count": null,
   "metadata": {
    "scrolled": true
   },
   "outputs": [],
   "source": [
    "list1 = [1, 2, 3, 4, 5]                  \n",
    "print(id(list1))\n",
    "print(list1)\n",
    "list1[3] = 257\n",
    "print(list1)\n",
    "print(id(list1))"
   ]
  },
  {
   "cell_type": "code",
   "execution_count": null,
   "metadata": {},
   "outputs": [],
   "source": [
    "list3 = [\"a\", \"b\", \"c\", \"d\",'s\"]"
   ]
  },
  {
   "cell_type": "code",
   "execution_count": null,
   "metadata": {},
   "outputs": [],
   "source": [
    "#Always use either single quotes, or double quotes to enclose a string.\n",
    "#If started with single quote, end with single only\n",
    "#If started with double quote, end with double only\n",
    "a = [\"a\", \"b\", \"c\", \"d\",\"s\"]\n",
    "a"
   ]
  },
  {
   "cell_type": "code",
   "execution_count": null,
   "metadata": {},
   "outputs": [],
   "source": [
    "a=1\n",
    "print(id(a))\n",
    "a=2\n",
    "print(id(a))"
   ]
  },
  {
   "cell_type": "code",
   "execution_count": null,
   "metadata": {},
   "outputs": [],
   "source": [
    "list2 = [1, 2, 3, 4, 5, 6, 7 ]\n",
    "print(list2)\n",
    "list2[3] = \"Python\"\n",
    "print(list2)"
   ]
  },
  {
   "cell_type": "code",
   "execution_count": null,
   "metadata": {},
   "outputs": [],
   "source": [
    "list1 =[\"Neha\"]\n",
    "print(id(list1))"
   ]
  },
  {
   "cell_type": "code",
   "execution_count": null,
   "metadata": {},
   "outputs": [],
   "source": [
    "list1= [4,8,6,4,7,8]\n",
    "list2=['Python','DS','Marketing']\n",
    "list3=[3+9j,True, 1.23, False]\n",
    "\n",
    "print(list1 + list2 +list3)"
   ]
  },
  {
   "cell_type": "code",
   "execution_count": null,
   "metadata": {},
   "outputs": [],
   "source": [
    "print(list1)\n",
    "print(list2)\n",
    "print(list3)"
   ]
  },
  {
   "cell_type": "code",
   "execution_count": null,
   "metadata": {},
   "outputs": [],
   "source": [
    "list4= list1 + list2 +list3\n",
    "print(list4)\n",
    "print(list1); print(list2); print(list3);"
   ]
  },
  {
   "cell_type": "code",
   "execution_count": 1,
   "metadata": {},
   "outputs": [
    {
     "name": "stdout",
     "output_type": "stream",
     "text": [
      "['Python', 'Basics', 2013, 2018]\n"
     ]
    }
   ],
   "source": [
    "list1 = ['Python', 'Basics', 2013, 2018]\n",
    "print(list1)"
   ]
  },
  {
   "cell_type": "code",
   "execution_count": 2,
   "metadata": {},
   "outputs": [
    {
     "data": {
      "text/plain": [
       "['Python', 2013, 2018]"
      ]
     },
     "execution_count": 2,
     "metadata": {},
     "output_type": "execute_result"
    }
   ],
   "source": [
    "list1.remove('Basics')\n",
    "list1"
   ]
  },
  {
   "cell_type": "code",
   "execution_count": 3,
   "metadata": {},
   "outputs": [
    {
     "data": {
      "text/plain": [
       "['Python', 2018]"
      ]
     },
     "execution_count": 3,
     "metadata": {},
     "output_type": "execute_result"
    }
   ],
   "source": [
    "list1.remove(2013)\n",
    "list1"
   ]
  },
  {
   "cell_type": "code",
   "execution_count": 4,
   "metadata": {},
   "outputs": [
    {
     "name": "stdout",
     "output_type": "stream",
     "text": [
      "['Python', 'Basics', 2013, 2018]\n"
     ]
    },
    {
     "data": {
      "text/plain": [
       "['Basics', 2013, 2018]"
      ]
     },
     "execution_count": 4,
     "metadata": {},
     "output_type": "execute_result"
    }
   ],
   "source": [
    "list1 = ['Python', 'Basics', 2013, 2018]\n",
    "print(list1)\n",
    "list1.remove(list1[0])\n",
    "list1"
   ]
  },
  {
   "cell_type": "code",
   "execution_count": 5,
   "metadata": {},
   "outputs": [
    {
     "name": "stdout",
     "output_type": "stream",
     "text": [
      "['Basics', 2013, 2018]\n"
     ]
    },
    {
     "ename": "NameError",
     "evalue": "name 'list1' is not defined",
     "output_type": "error",
     "traceback": [
      "\u001b[1;31m---------------------------------------------------------------------------\u001b[0m",
      "\u001b[1;31mNameError\u001b[0m                                 Traceback (most recent call last)",
      "\u001b[1;32m<ipython-input-5-2492e838479b>\u001b[0m in \u001b[0;36m<module>\u001b[1;34m\u001b[0m\n\u001b[0;32m      2\u001b[0m \u001b[1;32mdel\u001b[0m\u001b[1;33m(\u001b[0m\u001b[0mlist1\u001b[0m\u001b[1;33m)\u001b[0m\u001b[1;33m\u001b[0m\u001b[1;33m\u001b[0m\u001b[0m\n\u001b[0;32m      3\u001b[0m \u001b[1;33m\u001b[0m\u001b[0m\n\u001b[1;32m----> 4\u001b[1;33m \u001b[0mprint\u001b[0m\u001b[1;33m(\u001b[0m\u001b[0mlist1\u001b[0m\u001b[1;33m)\u001b[0m\u001b[1;33m\u001b[0m\u001b[1;33m\u001b[0m\u001b[0m\n\u001b[0m",
      "\u001b[1;31mNameError\u001b[0m: name 'list1' is not defined"
     ]
    }
   ],
   "source": [
    "print(list1)\n",
    "del(list1)\n",
    "\n",
    "print(list1)"
   ]
  },
  {
   "cell_type": "code",
   "execution_count": 6,
   "metadata": {},
   "outputs": [
    {
     "name": "stdout",
     "output_type": "stream",
     "text": [
      "[123, 'xyz', 'zara', 'abc']\n",
      "[123, 'xyz', 'zara', 'abc', '1234']\n",
      "[123, 'xyz', 'zara', 'abc', '1234', 2021]\n"
     ]
    }
   ],
   "source": [
    "# Append\n",
    "aList = [123, 'xyz', 'zara', 'abc']\n",
    "print(aList)\n",
    "aList.append('1234')\n",
    "print(aList)\n",
    "aList.append(2021)\n",
    "print(aList)"
   ]
  },
  {
   "cell_type": "code",
   "execution_count": 11,
   "metadata": {},
   "outputs": [
    {
     "name": "stdout",
     "output_type": "stream",
     "text": [
      "[123, 2009, 'xyz', 'zara', 'abc', 1234]\n",
      "1234\n",
      "[123, 2009, 'xyz', 'zara', 'abc']\n"
     ]
    }
   ],
   "source": [
    "#Pop\n",
    "aList=[123, 2009, 'xyz', 'zara', 'abc', 1234]\n",
    "print(aList)\n",
    "print(aList.pop())\n",
    "print(aList)"
   ]
  },
  {
   "cell_type": "code",
   "execution_count": 13,
   "metadata": {},
   "outputs": [
    {
     "name": "stdout",
     "output_type": "stream",
     "text": [
      "zara\n",
      "[123, 2009, 'xyz']\n"
     ]
    }
   ],
   "source": [
    "print(aList.pop())\n",
    "print(aList)"
   ]
  },
  {
   "cell_type": "code",
   "execution_count": 14,
   "metadata": {},
   "outputs": [
    {
     "name": "stdout",
     "output_type": "stream",
     "text": [
      "[123, 2009, 'xyz', 'zara', 'abc', 1234]\n",
      "xyz\n",
      "[123, 2009, 'zara', 'abc', 1234]\n"
     ]
    }
   ],
   "source": [
    "#Pop function with a value inside bracket will remove the element on the stated index value.\n",
    "aList=[123, 2009, 'xyz', 'zara', 'abc', 1234]\n",
    "print(aList)\n",
    "print(aList.pop(2))\n",
    "print(aList)"
   ]
  },
  {
   "cell_type": "code",
   "execution_count": 15,
   "metadata": {},
   "outputs": [
    {
     "name": "stdout",
     "output_type": "stream",
     "text": [
      "[123, 2009, 'xyz', 'zara', 'abc', 1234]\n",
      "[123, 2022, 2009, 'xyz', 'zara', 'abc', 1234]\n"
     ]
    }
   ],
   "source": [
    "#Insert\n",
    "aList=[123, 2009, 'xyz', 'zara', 'abc', 1234]\n",
    "print(aList)\n",
    "aList.insert(1, 2022)\n",
    "print(aList)"
   ]
  },
  {
   "cell_type": "code",
   "execution_count": 16,
   "metadata": {},
   "outputs": [
    {
     "name": "stdout",
     "output_type": "stream",
     "text": [
      "[123, 2022, 2009, 'Neha', 'xyz', 'zara', 'abc', 1234]\n"
     ]
    }
   ],
   "source": [
    "aList.insert(3,\"Neha\")\n",
    "print(aList)"
   ]
  },
  {
   "cell_type": "code",
   "execution_count": 20,
   "metadata": {},
   "outputs": [
    {
     "name": "stdout",
     "output_type": "stream",
     "text": [
      "[123, 'xyz', 'tommy', 'abc', 123]\n",
      "[2009, 'beneli']\n"
     ]
    }
   ],
   "source": [
    "#Extend\n",
    "aList = [123, 'xyz', 'tommy', 'abc', 123]\n",
    "bList = [2009, 'beneli']\n",
    "print(aList)\n",
    "print(bList)"
   ]
  },
  {
   "cell_type": "code",
   "execution_count": 21,
   "metadata": {},
   "outputs": [
    {
     "name": "stdout",
     "output_type": "stream",
     "text": [
      "[123, 'xyz', 'tommy', 'abc', 123]\n",
      "[123, 'xyz', 'tommy', 'abc', 123, 2009, 'beneli']\n",
      "[2009, 'beneli']\n"
     ]
    }
   ],
   "source": [
    "print(aList)\n",
    "aList.extend(bList)\n",
    "print(aList)\n",
    "print(bList)"
   ]
  },
  {
   "cell_type": "code",
   "execution_count": 22,
   "metadata": {},
   "outputs": [
    {
     "name": "stdout",
     "output_type": "stream",
     "text": [
      "[2009, 'beneli']\n",
      "[2009, 'beneli', 123, 'xyz', 'tommy', 'abc', 123]\n",
      "[123, 'xyz', 'tommy', 'abc', 123]\n"
     ]
    }
   ],
   "source": [
    "aList = [123, 'xyz', 'tommy', 'abc', 123]\n",
    "bList = [2009, 'beneli']\n",
    "\n",
    "print(bList)\n",
    "bList.extend(aList)\n",
    "print(bList)\n",
    "print(aList)"
   ]
  },
  {
   "cell_type": "code",
   "execution_count": null,
   "metadata": {},
   "outputs": [],
   "source": [
    "aList = [123, 'xyz', 'tommy', 'abc', 123]\n",
    "bList = [2009, 'beneli']\n",
    "print(bList.extend(aList))"
   ]
  },
  {
   "cell_type": "code",
   "execution_count": 23,
   "metadata": {},
   "outputs": [
    {
     "name": "stdout",
     "output_type": "stream",
     "text": [
      "[123, 'xyz', 'tommy', 'abc', 123, 'Hi', 56]\n",
      "[56, 'Hi', 123, 'abc', 'tommy', 'xyz', 123]\n"
     ]
    }
   ],
   "source": [
    "#Reverse\n",
    "aList = [123, 'xyz', 'tommy', 'abc', 123,'Hi',56]\n",
    "print(aList)\n",
    "aList.reverse()\n",
    "print(aList)"
   ]
  },
  {
   "cell_type": "code",
   "execution_count": 28,
   "metadata": {},
   "outputs": [
    {
     "ename": "TypeError",
     "evalue": "'<' not supported between instances of 'str' and 'int'",
     "output_type": "error",
     "traceback": [
      "\u001b[1;31m---------------------------------------------------------------------------\u001b[0m",
      "\u001b[1;31mTypeError\u001b[0m                                 Traceback (most recent call last)",
      "\u001b[1;32m<ipython-input-28-9742a6fda1e7>\u001b[0m in \u001b[0;36m<module>\u001b[1;34m\u001b[0m\n\u001b[1;32m----> 1\u001b[1;33m \u001b[0maList\u001b[0m\u001b[1;33m.\u001b[0m\u001b[0msort\u001b[0m\u001b[1;33m(\u001b[0m\u001b[1;33m)\u001b[0m\u001b[1;33m\u001b[0m\u001b[1;33m\u001b[0m\u001b[0m\n\u001b[0m",
      "\u001b[1;31mTypeError\u001b[0m: '<' not supported between instances of 'str' and 'int'"
     ]
    }
   ],
   "source": [
    "#Cannot sort a list having multiple data types\n",
    "aList = [123, 'xyz', 'tommy', 'abc', 123,'Hi',56]\n",
    "aList.sort()"
   ]
  },
  {
   "cell_type": "code",
   "execution_count": 24,
   "metadata": {},
   "outputs": [
    {
     "name": "stdout",
     "output_type": "stream",
     "text": [
      "[8, 99, 45, 33, 96, 52, 47, 14, 45]\n"
     ]
    },
    {
     "data": {
      "text/plain": [
       "[8, 14, 33, 45, 45, 47, 52, 96, 99]"
      ]
     },
     "execution_count": 24,
     "metadata": {},
     "output_type": "execute_result"
    }
   ],
   "source": [
    "#Sort\n",
    "bList = [8,99,45,33,96,52,47,14,45]\n",
    "print(bList)\n",
    "bList.sort(reverse = False)\n",
    "bList"
   ]
  },
  {
   "cell_type": "code",
   "execution_count": 25,
   "metadata": {},
   "outputs": [
    {
     "name": "stdout",
     "output_type": "stream",
     "text": [
      "[8, 99, 45, 33, 96, 52, 47, 14, 45]\n",
      "[99, 96, 52, 47, 45, 45, 33, 14, 8]\n"
     ]
    }
   ],
   "source": [
    "bList = [8,99,45,33,96,52,47,14,45]\n",
    "print(bList)\n",
    "bList.sort(reverse = True)\n",
    "print(bList)"
   ]
  },
  {
   "cell_type": "code",
   "execution_count": 29,
   "metadata": {},
   "outputs": [
    {
     "data": {
      "text/plain": [
       "[8, 14, 33, 45, 47, 52, 96, 99]"
      ]
     },
     "execution_count": 29,
     "metadata": {},
     "output_type": "execute_result"
    }
   ],
   "source": [
    "bList = [8, 99, 45, 33, 96, 52, 47, 14]\n",
    "bList.sort()\n",
    "bList"
   ]
  },
  {
   "cell_type": "code",
   "execution_count": 33,
   "metadata": {},
   "outputs": [
    {
     "data": {
      "text/plain": [
       "3"
      ]
     },
     "execution_count": 33,
     "metadata": {},
     "output_type": "execute_result"
    }
   ],
   "source": [
    "#count\n",
    "#To get the count of a specific element inside a list\n",
    "aList = [123, 'xyz', 'zara', 'abc', 123, \"zara\",123]\n",
    "aList.count(123)"
   ]
  },
  {
   "cell_type": "code",
   "execution_count": 31,
   "metadata": {},
   "outputs": [
    {
     "data": {
      "text/plain": [
       "1"
      ]
     },
     "execution_count": 31,
     "metadata": {},
     "output_type": "execute_result"
    }
   ],
   "source": [
    "aList.count('xyz')"
   ]
  },
  {
   "cell_type": "code",
   "execution_count": 32,
   "metadata": {},
   "outputs": [
    {
     "data": {
      "text/plain": [
       "2"
      ]
     },
     "execution_count": 32,
     "metadata": {},
     "output_type": "execute_result"
    }
   ],
   "source": [
    "aList.count(\"zara\")"
   ]
  },
  {
   "cell_type": "code",
   "execution_count": 34,
   "metadata": {
    "scrolled": true
   },
   "outputs": [
    {
     "name": "stdout",
     "output_type": "stream",
     "text": [
      "[123, 'xyz', 'zara', 'abc', 123, 'zara', 123]\n"
     ]
    },
    {
     "data": {
      "text/plain": [
       "7"
      ]
     },
     "execution_count": 34,
     "metadata": {},
     "output_type": "execute_result"
    }
   ],
   "source": [
    "#To count the number of elements in a list, length\n",
    "print(aList)\n",
    "len(aList)"
   ]
  },
  {
   "cell_type": "code",
   "execution_count": 35,
   "metadata": {},
   "outputs": [
    {
     "data": {
      "text/plain": [
       "[]"
      ]
     },
     "execution_count": 35,
     "metadata": {},
     "output_type": "execute_result"
    }
   ],
   "source": [
    "Empty_List=[]\n",
    "Empty_List"
   ]
  },
  {
   "cell_type": "code",
   "execution_count": null,
   "metadata": {},
   "outputs": [],
   "source": [
    "print(id(Empty_List))"
   ]
  },
  {
   "cell_type": "code",
   "execution_count": 37,
   "metadata": {},
   "outputs": [
    {
     "data": {
      "text/plain": [
       "range(0, 8)"
      ]
     },
     "execution_count": 37,
     "metadata": {},
     "output_type": "execute_result"
    }
   ],
   "source": [
    "range(8)"
   ]
  },
  {
   "cell_type": "code",
   "execution_count": 38,
   "metadata": {},
   "outputs": [
    {
     "data": {
      "text/plain": [
       "[1, 2, 3, 4, 5, 6, 7, 8, 9]"
      ]
     },
     "execution_count": 38,
     "metadata": {},
     "output_type": "execute_result"
    }
   ],
   "source": [
    "list(range(1,10))"
   ]
  },
  {
   "cell_type": "code",
   "execution_count": 36,
   "metadata": {},
   "outputs": [
    {
     "name": "stdout",
     "output_type": "stream",
     "text": [
      "[0, 1, 2, 3, 4, 5, 6, 7]\n"
     ]
    }
   ],
   "source": [
    "#List is an iterable data structure\n",
    "a=list(range(8))\n",
    "print(a)"
   ]
  },
  {
   "cell_type": "code",
   "execution_count": 39,
   "metadata": {},
   "outputs": [
    {
     "data": {
      "text/plain": [
       "[0, 1, 2, 3, 4, 5, 6, 7]"
      ]
     },
     "execution_count": 39,
     "metadata": {},
     "output_type": "execute_result"
    }
   ],
   "source": [
    "a"
   ]
  },
  {
   "cell_type": "code",
   "execution_count": 40,
   "metadata": {},
   "outputs": [
    {
     "name": "stdout",
     "output_type": "stream",
     "text": [
      "0\n",
      "1\n",
      "2\n",
      "3\n",
      "4\n",
      "5\n",
      "6\n",
      "7\n"
     ]
    }
   ],
   "source": [
    "for i in a:\n",
    "    print(i)"
   ]
  },
  {
   "cell_type": "code",
   "execution_count": 45,
   "metadata": {},
   "outputs": [
    {
     "name": "stdout",
     "output_type": "stream",
     "text": [
      "1\n",
      "4\n",
      "9\n",
      "16\n",
      "25\n",
      "36\n",
      "49\n",
      "64\n",
      "81\n",
      "100\n"
     ]
    }
   ],
   "source": [
    "list1=[1,2,3,4,5,6,7,8,9,10]\n",
    "\n",
    "for m in list1:\n",
    "    print(m*m)"
   ]
  },
  {
   "cell_type": "code",
   "execution_count": 42,
   "metadata": {},
   "outputs": [],
   "source": [
    "aList = [123, 'xyz', 'zara', 'abc', 123, \"zara\"]"
   ]
  },
  {
   "cell_type": "code",
   "execution_count": 43,
   "metadata": {},
   "outputs": [
    {
     "data": {
      "text/plain": [
       "2"
      ]
     },
     "execution_count": 43,
     "metadata": {},
     "output_type": "execute_result"
    }
   ],
   "source": [
    "#Index\n",
    "# Gives the index value of the first instance of an element in the list.\n",
    "aList.index('zara')"
   ]
  },
  {
   "cell_type": "code",
   "execution_count": 44,
   "metadata": {},
   "outputs": [
    {
     "data": {
      "text/plain": [
       "3"
      ]
     },
     "execution_count": 44,
     "metadata": {},
     "output_type": "execute_result"
    }
   ],
   "source": [
    "aList.index('abc')"
   ]
  },
  {
   "cell_type": "code",
   "execution_count": 46,
   "metadata": {},
   "outputs": [
    {
     "name": "stdout",
     "output_type": "stream",
     "text": [
      "[123, 'xyz', 'zara', 'abc', 123, 'zara']\n",
      "[123, 'xyz', 'zara', 'abc', 123, 'zara']\n"
     ]
    }
   ],
   "source": [
    "print(aList)\n",
    "bList=aList.copy()\n",
    "print(bList)"
   ]
  },
  {
   "cell_type": "code",
   "execution_count": 47,
   "metadata": {},
   "outputs": [
    {
     "name": "stdout",
     "output_type": "stream",
     "text": [
      "[123, 'xyz', 'zara', 'abc', 123, 'zara']\n",
      "[]\n"
     ]
    }
   ],
   "source": [
    "#Clear\n",
    "print(aList)\n",
    "aList.clear()\n",
    "print(aList)"
   ]
  },
  {
   "cell_type": "code",
   "execution_count": 51,
   "metadata": {},
   "outputs": [
    {
     "name": "stdout",
     "output_type": "stream",
     "text": [
      "[123, 'xyz', 'zara', 'abc', 123, 'zara']\n"
     ]
    },
    {
     "data": {
      "text/plain": [
       "[123, 'xyz', 'zara']"
      ]
     },
     "execution_count": 51,
     "metadata": {},
     "output_type": "execute_result"
    }
   ],
   "source": [
    "aList=[123, 'xyz', 'zara', 'abc', 123, 'zara']\n",
    "print(aList)\n",
    "bList=aList[0:3]\n",
    "bList"
   ]
  },
  {
   "cell_type": "code",
   "execution_count": 53,
   "metadata": {},
   "outputs": [
    {
     "name": "stdout",
     "output_type": "stream",
     "text": [
      "[1, 2, 3]\n",
      "[1, 2, 3]\n"
     ]
    }
   ],
   "source": [
    "a=[1,2,3]\n",
    "b=a\n",
    "print(b)\n",
    "print(a)"
   ]
  },
  {
   "cell_type": "code",
   "execution_count": 55,
   "metadata": {},
   "outputs": [
    {
     "name": "stdout",
     "output_type": "stream",
     "text": [
      "1988206221888\n",
      "1988206221888\n"
     ]
    }
   ],
   "source": [
    "print(id(a))\n",
    "print(id(b))"
   ]
  },
  {
   "cell_type": "code",
   "execution_count": 57,
   "metadata": {},
   "outputs": [
    {
     "name": "stdout",
     "output_type": "stream",
     "text": [
      "1988206221888\n",
      "1988205053120\n"
     ]
    }
   ],
   "source": [
    "b=a.copy()\n",
    "print(id(a))\n",
    "print(id(b))"
   ]
  },
  {
   "cell_type": "code",
   "execution_count": null,
   "metadata": {},
   "outputs": [],
   "source": [
    "#Membership in list\n",
    "#Is the element present in the list?\n",
    "print(3 in [1,2,3])\n",
    "print(5 in [1,2,3])"
   ]
  },
  {
   "cell_type": "code",
   "execution_count": null,
   "metadata": {},
   "outputs": [],
   "source": [
    "#Is the element '8' present in the list 'a' or not? \n",
    "#Is '8' a member of 'a' or not\n",
    "a=[2,5,8,9,6,4,7]\n",
    "8 in a"
   ]
  },
  {
   "cell_type": "code",
   "execution_count": null,
   "metadata": {},
   "outputs": [],
   "source": [
    "10 in a"
   ]
  },
  {
   "cell_type": "code",
   "execution_count": null,
   "metadata": {},
   "outputs": [],
   "source": [
    "a[3] is 9"
   ]
  },
  {
   "cell_type": "code",
   "execution_count": null,
   "metadata": {},
   "outputs": [],
   "source": [
    "#Is '9' the 3rd index value in 'a'?\n",
    "a[3]==9"
   ]
  },
  {
   "cell_type": "code",
   "execution_count": null,
   "metadata": {},
   "outputs": [],
   "source": [
    "#Is '9' not in a?\n",
    "9 not in a"
   ]
  },
  {
   "cell_type": "code",
   "execution_count": null,
   "metadata": {},
   "outputs": [],
   "source": [
    "#Is the value at index 2 not equal to value at index 3?\n",
    "a[2]!=a[3]"
   ]
  },
  {
   "cell_type": "code",
   "execution_count": null,
   "metadata": {},
   "outputs": [],
   "source": [
    "a=range(50)\n",
    "b=list(a)\n",
    "print(b)"
   ]
  },
  {
   "cell_type": "markdown",
   "metadata": {},
   "source": [
    "- !=  Not equal to\n",
    "- == Equal to"
   ]
  },
  {
   "cell_type": "code",
   "execution_count": null,
   "metadata": {},
   "outputs": [],
   "source": []
  },
  {
   "cell_type": "code",
   "execution_count": null,
   "metadata": {},
   "outputs": [],
   "source": [
    "# Write a code to create a list with cubes of first 30 natural numbers."
   ]
  },
  {
   "cell_type": "code",
   "execution_count": null,
   "metadata": {},
   "outputs": [],
   "source": [
    "alist=range(31*3)\n",
    "b =list(alist)\n",
    "print(b,end='')"
   ]
  },
  {
   "cell_type": "code",
   "execution_count": null,
   "metadata": {
    "scrolled": true
   },
   "outputs": [],
   "source": [
    "for i in range(1,31):\n",
    "    print(i*i*i, end=' ')"
   ]
  },
  {
   "cell_type": "code",
   "execution_count": null,
   "metadata": {},
   "outputs": [],
   "source": [
    "alist=range(11)\n",
    "print(alist)\n",
    "for i in alist:\n",
    "    print(i*i/2)"
   ]
  },
  {
   "cell_type": "code",
   "execution_count": null,
   "metadata": {},
   "outputs": [],
   "source": [
    "#find the square of the first 10 multiples of 4\n",
    "x=range(1,11)\n",
    "x=list(x)\n",
    "print(x)\n",
    "mult_4=[]\n",
    "sq_mult_4=[]\n",
    "for i in x:\n",
    "    a=4*i\n",
    "    b=(4*i)*(4*i)\n",
    "    mult_4.append(a)\n",
    "    sq_mult_4.append(b)\n",
    "\n",
    "print(mult_4) \n",
    "print(sq_mult_4)"
   ]
  },
  {
   "cell_type": "code",
   "execution_count": null,
   "metadata": {},
   "outputs": [],
   "source": [
    "x=[2,6,4,5,1,2,5,7,8,9,5,4,2]\n",
    "\n",
    "div_2=[]\n",
    "\n",
    "for i in x:\n",
    "    if i%2==0:\n",
    "        div_2.append(i)\n",
    "        \n",
    "print(div_2)        "
   ]
  },
  {
   "cell_type": "markdown",
   "metadata": {},
   "source": [
    "# Tuples"
   ]
  },
  {
   "cell_type": "code",
   "execution_count": 1,
   "metadata": {},
   "outputs": [],
   "source": [
    "## Create a tuple dataset\n",
    "tup1 = ('Street triple','Detona','Beneli', 8055)\n",
    "tup2 = (1, 2, 3, 4, 5 )\n",
    "tup3 = (\"a\", \"b\", \"c\", \"d\")"
   ]
  },
  {
   "cell_type": "code",
   "execution_count": 2,
   "metadata": {
    "scrolled": true
   },
   "outputs": [
    {
     "name": "stdout",
     "output_type": "stream",
     "text": [
      "('Street triple', 'Detona', 'Beneli', 8055)\n"
     ]
    },
    {
     "data": {
      "text/plain": [
       "('Street triple', 'Detona', 'Beneli', 8055)"
      ]
     },
     "execution_count": 2,
     "metadata": {},
     "output_type": "execute_result"
    }
   ],
   "source": [
    "print(tup1)\n",
    "tup1"
   ]
  },
  {
   "cell_type": "code",
   "execution_count": 3,
   "metadata": {},
   "outputs": [
    {
     "data": {
      "text/plain": [
       "(1, 2, 3, 4, 5)"
      ]
     },
     "execution_count": 3,
     "metadata": {},
     "output_type": "execute_result"
    }
   ],
   "source": [
    "tup2"
   ]
  },
  {
   "cell_type": "code",
   "execution_count": 4,
   "metadata": {},
   "outputs": [
    {
     "data": {
      "text/plain": [
       "('a', 'b', 'c', 'd')"
      ]
     },
     "execution_count": 4,
     "metadata": {},
     "output_type": "execute_result"
    }
   ],
   "source": [
    "tup3"
   ]
  },
  {
   "cell_type": "code",
   "execution_count": 5,
   "metadata": {},
   "outputs": [],
   "source": [
    "### Create a empty tuple\n",
    "tup4 = ()"
   ]
  },
  {
   "cell_type": "code",
   "execution_count": 6,
   "metadata": {},
   "outputs": [
    {
     "data": {
      "text/plain": [
       "1950762991680"
      ]
     },
     "execution_count": 6,
     "metadata": {},
     "output_type": "execute_result"
    }
   ],
   "source": [
    "tup4=()\n",
    "id(tup4)"
   ]
  },
  {
   "cell_type": "code",
   "execution_count": 7,
   "metadata": {},
   "outputs": [
    {
     "data": {
      "text/plain": [
       "(50,)"
      ]
     },
     "execution_count": 7,
     "metadata": {},
     "output_type": "execute_result"
    }
   ],
   "source": [
    "#Create a single tuple\n",
    "tup1 = (50,)\n",
    "tup1"
   ]
  },
  {
   "cell_type": "code",
   "execution_count": 8,
   "metadata": {},
   "outputs": [
    {
     "data": {
      "text/plain": [
       "50"
      ]
     },
     "execution_count": 8,
     "metadata": {},
     "output_type": "execute_result"
    }
   ],
   "source": [
    "tup1 = (50)\n",
    "tup1"
   ]
  },
  {
   "cell_type": "code",
   "execution_count": 9,
   "metadata": {},
   "outputs": [
    {
     "data": {
      "text/plain": [
       "int"
      ]
     },
     "execution_count": 9,
     "metadata": {},
     "output_type": "execute_result"
    }
   ],
   "source": [
    "type(tup1)"
   ]
  },
  {
   "cell_type": "code",
   "execution_count": 10,
   "metadata": {},
   "outputs": [
    {
     "name": "stdout",
     "output_type": "stream",
     "text": [
      "('Street triple', 'Detona', 'Beneli', 8055)\n",
      "Street triple\n",
      "Beneli\n"
     ]
    }
   ],
   "source": [
    "#Accessing Values in Tuples\n",
    "tup1 = ('Street triple','Detona','Beneli', 8055)\n",
    "print(tup1)\n",
    "print(tup1[0])\n",
    "print(tup1[2])"
   ]
  },
  {
   "cell_type": "code",
   "execution_count": 11,
   "metadata": {},
   "outputs": [
    {
     "ename": "TypeError",
     "evalue": "'tuple' object does not support item assignment",
     "output_type": "error",
     "traceback": [
      "\u001b[1;31m---------------------------------------------------------------------------\u001b[0m",
      "\u001b[1;31mTypeError\u001b[0m                                 Traceback (most recent call last)",
      "\u001b[1;32m<ipython-input-11-70649422504a>\u001b[0m in \u001b[0;36m<module>\u001b[1;34m\u001b[0m\n\u001b[0;32m      1\u001b[0m \u001b[1;31m#Tuple is immutable, hence we cannot replace a value in tuple\u001b[0m\u001b[1;33m\u001b[0m\u001b[1;33m\u001b[0m\u001b[1;33m\u001b[0m\u001b[0m\n\u001b[0;32m      2\u001b[0m \u001b[0mtup2\u001b[0m \u001b[1;33m=\u001b[0m \u001b[1;33m(\u001b[0m\u001b[1;36m1\u001b[0m\u001b[1;33m,\u001b[0m \u001b[1;36m2\u001b[0m\u001b[1;33m,\u001b[0m \u001b[1;36m3\u001b[0m\u001b[1;33m,\u001b[0m \u001b[1;36m4\u001b[0m\u001b[1;33m,\u001b[0m \u001b[1;36m5\u001b[0m\u001b[1;33m,\u001b[0m \u001b[1;36m6\u001b[0m\u001b[1;33m,\u001b[0m \u001b[1;36m7\u001b[0m \u001b[1;33m)\u001b[0m\u001b[1;33m\u001b[0m\u001b[1;33m\u001b[0m\u001b[0m\n\u001b[1;32m----> 3\u001b[1;33m \u001b[0mtup2\u001b[0m\u001b[1;33m[\u001b[0m\u001b[1;36m2\u001b[0m\u001b[1;33m]\u001b[0m \u001b[1;33m=\u001b[0m \u001b[1;36m14\u001b[0m\u001b[1;33m\u001b[0m\u001b[1;33m\u001b[0m\u001b[0m\n\u001b[0m",
      "\u001b[1;31mTypeError\u001b[0m: 'tuple' object does not support item assignment"
     ]
    }
   ],
   "source": [
    "#Tuple is immutable, hence we cannot replace a value in tuple\n",
    "tup2 = (1, 2, 3, 4, 5, 6, 7 )\n",
    "tup2[2] = 14"
   ]
  },
  {
   "cell_type": "code",
   "execution_count": 14,
   "metadata": {},
   "outputs": [
    {
     "name": "stdout",
     "output_type": "stream",
     "text": [
      "(1, 2, 3, 4, 5, 6, 7)\n",
      "(2, 3, 4, 5, 6)\n"
     ]
    }
   ],
   "source": [
    "tup2 = (1, 2, 3, 4, 5, 6, 7 )\n",
    "print(tup2)\n",
    "print(tup2[1:6])\n",
    "#tup2[0:6]\n",
    "#tup2[1:5]"
   ]
  },
  {
   "cell_type": "code",
   "execution_count": 15,
   "metadata": {},
   "outputs": [
    {
     "name": "stdout",
     "output_type": "stream",
     "text": [
      "(1, 2, 3, 4, 5, 6, 7)\n"
     ]
    },
    {
     "data": {
      "text/plain": [
       "(2, 3)"
      ]
     },
     "execution_count": 15,
     "metadata": {},
     "output_type": "execute_result"
    }
   ],
   "source": [
    "print(tup2)\n",
    "tup2[1:3]"
   ]
  },
  {
   "cell_type": "code",
   "execution_count": 16,
   "metadata": {},
   "outputs": [
    {
     "ename": "AttributeError",
     "evalue": "'tuple' object has no attribute 'reverse'",
     "output_type": "error",
     "traceback": [
      "\u001b[1;31m---------------------------------------------------------------------------\u001b[0m",
      "\u001b[1;31mAttributeError\u001b[0m                            Traceback (most recent call last)",
      "\u001b[1;32m<ipython-input-16-f2c6f5080bc5>\u001b[0m in \u001b[0;36m<module>\u001b[1;34m\u001b[0m\n\u001b[1;32m----> 1\u001b[1;33m \u001b[0mtup2\u001b[0m\u001b[1;33m.\u001b[0m\u001b[0mreverse\u001b[0m\u001b[1;33m(\u001b[0m\u001b[1;33m)\u001b[0m\u001b[1;33m\u001b[0m\u001b[1;33m\u001b[0m\u001b[0m\n\u001b[0m",
      "\u001b[1;31mAttributeError\u001b[0m: 'tuple' object has no attribute 'reverse'"
     ]
    }
   ],
   "source": [
    "tup2.reverse()"
   ]
  },
  {
   "cell_type": "code",
   "execution_count": 17,
   "metadata": {
    "scrolled": true
   },
   "outputs": [
    {
     "name": "stdout",
     "output_type": "stream",
     "text": [
      "('Street triple', 'Detona', 'Beneli', 8055)\n",
      "(1, 2, 3, 4, 5, 6, 7)\n",
      "(12, 34.56)\n",
      "('abc', 'xyz')\n"
     ]
    }
   ],
   "source": [
    "#Updating Tuples\n",
    "tup1 = ('Street triple','Detona','Beneli', 8055)\n",
    "tup2 = (1, 2, 3, 4, 5, 6, 7 )\n",
    "print(tup1)\n",
    "print(tup2)\n",
    "tup1 = (12, 34.56)\n",
    "tup2 = ('abc', 'xyz')\n",
    "print(tup1)\n",
    "print(tup2)"
   ]
  },
  {
   "cell_type": "code",
   "execution_count": 18,
   "metadata": {},
   "outputs": [
    {
     "name": "stdout",
     "output_type": "stream",
     "text": [
      "(12, 34.56)\n",
      "('abc', 'xyz')\n",
      "(12, 34.56, 'abc', 'xyz')\n"
     ]
    }
   ],
   "source": [
    "# So,create a new tuple as follows\n",
    "print(tup1)\n",
    "print(tup2)\n",
    "tup3 = tup1 + tup2\n",
    "print(tup3)"
   ]
  },
  {
   "cell_type": "code",
   "execution_count": 19,
   "metadata": {},
   "outputs": [
    {
     "name": "stdout",
     "output_type": "stream",
     "text": [
      "('Street triple', 'Detona', 'Beneli', 8055)\n"
     ]
    }
   ],
   "source": [
    "#Delete Tuple \n",
    "tup = ('Street triple','Detona','Beneli', 8055)\n",
    "print(tup)"
   ]
  },
  {
   "cell_type": "code",
   "execution_count": 20,
   "metadata": {},
   "outputs": [
    {
     "ename": "NameError",
     "evalue": "name 'tup' is not defined",
     "output_type": "error",
     "traceback": [
      "\u001b[1;31m---------------------------------------------------------------------------\u001b[0m",
      "\u001b[1;31mNameError\u001b[0m                                 Traceback (most recent call last)",
      "\u001b[1;32m<ipython-input-20-d5b633859619>\u001b[0m in \u001b[0;36m<module>\u001b[1;34m\u001b[0m\n\u001b[0;32m      1\u001b[0m \u001b[1;32mdel\u001b[0m\u001b[1;33m(\u001b[0m\u001b[0mtup\u001b[0m\u001b[1;33m)\u001b[0m\u001b[1;33m\u001b[0m\u001b[1;33m\u001b[0m\u001b[0m\n\u001b[1;32m----> 2\u001b[1;33m \u001b[0mprint\u001b[0m\u001b[1;33m(\u001b[0m\u001b[0mtup\u001b[0m\u001b[1;33m)\u001b[0m\u001b[1;33m\u001b[0m\u001b[1;33m\u001b[0m\u001b[0m\n\u001b[0m",
      "\u001b[1;31mNameError\u001b[0m: name 'tup' is not defined"
     ]
    }
   ],
   "source": [
    "del(tup)\n",
    "print(tup)"
   ]
  },
  {
   "cell_type": "code",
   "execution_count": null,
   "metadata": {},
   "outputs": [],
   "source": [
    "print(\"After deleting tup : \")\n",
    "print(tup)"
   ]
  },
  {
   "cell_type": "code",
   "execution_count": 21,
   "metadata": {},
   "outputs": [
    {
     "data": {
      "text/plain": [
       "7"
      ]
     },
     "execution_count": 21,
     "metadata": {},
     "output_type": "execute_result"
    }
   ],
   "source": [
    "#Basic Tuples Operations\n",
    "\n",
    "#To know length of the tuple\n",
    "tup = (1,2,3,'Basics','Python',8,5)\n",
    "len(tup)"
   ]
  },
  {
   "cell_type": "code",
   "execution_count": 26,
   "metadata": {},
   "outputs": [
    {
     "name": "stdout",
     "output_type": "stream",
     "text": [
      "(1, 2, 3, 4, 5, 6, 7)\n",
      "(1, 2, 3, 4, 5, 6, 7, 1, 2, 3, 4, 5, 6, 7, 1, 2, 3, 4, 5, 6, 7, 1, 2, 3, 4, 5, 6, 7)\n"
     ]
    }
   ],
   "source": [
    "tup3 = (1, 2, 3, 4, 5, 6, 7)\n",
    "print(tup3)\n",
    "tuple_repeat=tup3*4\n",
    "print(tuple_repeat, end= ' ')"
   ]
  },
  {
   "cell_type": "code",
   "execution_count": 28,
   "metadata": {},
   "outputs": [
    {
     "name": "stdout",
     "output_type": "stream",
     "text": [
      "(1, 2, 3, 4, 5, 6, 7, 1, 2, 3, 4, 5, 6, 7, 1, 2, 3, 4, 5, 6, 7, 1, 2, 3, 4, 5, 6, 7)\n"
     ]
    }
   ],
   "source": [
    "print(tuple_repeat, end= ' ')"
   ]
  },
  {
   "cell_type": "code",
   "execution_count": 25,
   "metadata": {},
   "outputs": [
    {
     "name": "stdout",
     "output_type": "stream",
     "text": [
      "(1, 2, 3, 4, 5, 6, 7, 1, 2, 3, 4, 5, 6, 7, 1, 2, 3, 4, 5, 6, 7, 1, 2, 3, 4, 5, 6, 7)\n"
     ]
    }
   ],
   "source": [
    "print(tup3*4)"
   ]
  },
  {
   "cell_type": "code",
   "execution_count": 23,
   "metadata": {},
   "outputs": [
    {
     "data": {
      "text/plain": [
       "('Hi!', 'Hi!', 'Hi!', 'Hi!', 'Hi!')"
      ]
     },
     "execution_count": 23,
     "metadata": {},
     "output_type": "execute_result"
    }
   ],
   "source": [
    "tup4 = ('Hi!',)\n",
    "tup4*5"
   ]
  },
  {
   "cell_type": "code",
   "execution_count": 29,
   "metadata": {},
   "outputs": [
    {
     "name": "stdout",
     "output_type": "stream",
     "text": [
      "700\n",
      "58\n"
     ]
    }
   ],
   "source": [
    "# Max and min in tuple\n",
    "tuple1 = (456, 700, 200,58)\n",
    "print(max(tuple1))\n",
    "print(min(tuple1))"
   ]
  },
  {
   "cell_type": "code",
   "execution_count": 30,
   "metadata": {},
   "outputs": [
    {
     "name": "stdout",
     "output_type": "stream",
     "text": [
      "z\n",
      "c\n"
     ]
    }
   ],
   "source": [
    "tuple1 = ('c', 'k', 'w','z')\n",
    "print(max(tuple1))\n",
    "print(min(tuple1))"
   ]
  },
  {
   "cell_type": "code",
   "execution_count": null,
   "metadata": {},
   "outputs": [],
   "source": []
  },
  {
   "cell_type": "markdown",
   "metadata": {},
   "source": [
    "# Dictionary"
   ]
  },
  {
   "cell_type": "code",
   "execution_count": 35,
   "metadata": {},
   "outputs": [
    {
     "data": {
      "text/plain": [
       "{'Name': 'Nisha', 'Age': 25, 'Bike': 'Activa', 'Marks': 25}"
      ]
     },
     "execution_count": 35,
     "metadata": {},
     "output_type": "execute_result"
    }
   ],
   "source": [
    "#Create a Dictionary\n",
    "a = {'Name': 'Nisha', 'Age': 25, 'Bike': 'Activa','Marks':25}\n",
    "a"
   ]
  },
  {
   "cell_type": "code",
   "execution_count": 32,
   "metadata": {},
   "outputs": [
    {
     "data": {
      "text/plain": [
       "dict"
      ]
     },
     "execution_count": 32,
     "metadata": {},
     "output_type": "execute_result"
    }
   ],
   "source": [
    "type(a)"
   ]
  },
  {
   "cell_type": "code",
   "execution_count": 37,
   "metadata": {},
   "outputs": [
    {
     "data": {
      "text/plain": [
       "{'Name': 'Nisha', 'Age': 25, 'Bike': 'Activa', 'Marks': 25}"
      ]
     },
     "execution_count": 37,
     "metadata": {},
     "output_type": "execute_result"
    }
   ],
   "source": [
    "dict1 = {'Name': 'Nisha', 'Age': 25, 'Bike': 'Activa','Marks':25}\n",
    "dict1"
   ]
  },
  {
   "cell_type": "code",
   "execution_count": 33,
   "metadata": {},
   "outputs": [
    {
     "ename": "TypeError",
     "evalue": "cannot convert dictionary update sequence element #0 to a sequence",
     "output_type": "error",
     "traceback": [
      "\u001b[1;31m---------------------------------------------------------------------------\u001b[0m",
      "\u001b[1;31mTypeError\u001b[0m                                 Traceback (most recent call last)",
      "\u001b[1;32m<ipython-input-33-c3298c3f96e4>\u001b[0m in \u001b[0;36m<module>\u001b[1;34m\u001b[0m\n\u001b[1;32m----> 1\u001b[1;33m \u001b[0mdict\u001b[0m\u001b[1;33m(\u001b[0m\u001b[0mrange\u001b[0m\u001b[1;33m(\u001b[0m\u001b[1;36m9\u001b[0m\u001b[1;33m)\u001b[0m\u001b[1;33m)\u001b[0m\u001b[1;33m\u001b[0m\u001b[1;33m\u001b[0m\u001b[0m\n\u001b[0m",
      "\u001b[1;31mTypeError\u001b[0m: cannot convert dictionary update sequence element #0 to a sequence"
     ]
    }
   ],
   "source": [
    "dict(range(9))"
   ]
  },
  {
   "cell_type": "code",
   "execution_count": 38,
   "metadata": {},
   "outputs": [
    {
     "name": "stdout",
     "output_type": "stream",
     "text": [
      "{'Name': 'Nisha', 'Age': 25, 'Bike': 'Activa', 'Marks': 25}\n",
      "Nisha\n",
      "25\n",
      "Activa\n",
      "25\n"
     ]
    }
   ],
   "source": [
    "print(dict1)\n",
    "#Accessing Values in Dictionary\n",
    "print(dict1['Name'])\n",
    "print(dict1['Age'])\n",
    "print(dict1['Bike'])\n",
    "print(dict1['Marks'])"
   ]
  },
  {
   "cell_type": "code",
   "execution_count": null,
   "metadata": {},
   "outputs": [],
   "source": [
    "dict1[0]"
   ]
  },
  {
   "cell_type": "code",
   "execution_count": 39,
   "metadata": {},
   "outputs": [
    {
     "data": {
      "text/plain": [
       "{'DOB': '21/01/1998',\n",
       " 'Sex': 'Female',\n",
       " 'Education': 'UG',\n",
       " 'Work Exp': 'Nil',\n",
       " 'Nationality': 'Indian'}"
      ]
     },
     "execution_count": 39,
     "metadata": {},
     "output_type": "execute_result"
    }
   ],
   "source": [
    "dict1 = {'DOB': '21/01/1998', 'Sex': 'Female', 'Education': 'UG', 'Work Exp' : 'Nil', 'Nationality':'Indian'}\n",
    "dict1"
   ]
  },
  {
   "cell_type": "code",
   "execution_count": 41,
   "metadata": {},
   "outputs": [
    {
     "data": {
      "text/plain": [
       "{'DOB': '21/01/1998',\n",
       " 'Sex': 'Female',\n",
       " 'Education': 'UG',\n",
       " 'Work Exp': 'Nil',\n",
       " 'Nationality': 'Indian',\n",
       " 'Area': 'Jayanagar',\n",
       " 'Hair Color': 'Brown'}"
      ]
     },
     "execution_count": 41,
     "metadata": {},
     "output_type": "execute_result"
    }
   ],
   "source": [
    "dict1['Area']='Jayanagar'\n",
    "dict1['Hair Color']='Brown'\n",
    "dict1"
   ]
  },
  {
   "cell_type": "code",
   "execution_count": 42,
   "metadata": {},
   "outputs": [
    {
     "data": {
      "text/plain": [
       "dict_keys(['DOB', 'Sex', 'Education', 'Work Exp', 'Nationality', 'Area', 'Hair Color'])"
      ]
     },
     "execution_count": 42,
     "metadata": {},
     "output_type": "execute_result"
    }
   ],
   "source": [
    "dict1.keys()"
   ]
  },
  {
   "cell_type": "code",
   "execution_count": 43,
   "metadata": {},
   "outputs": [
    {
     "data": {
      "text/plain": [
       "dict_values(['21/01/1998', 'Female', 'UG', 'Nil', 'Indian', 'Jayanagar', 'Brown'])"
      ]
     },
     "execution_count": 43,
     "metadata": {},
     "output_type": "execute_result"
    }
   ],
   "source": [
    "dict1.values()"
   ]
  },
  {
   "cell_type": "code",
   "execution_count": 44,
   "metadata": {},
   "outputs": [
    {
     "name": "stdout",
     "output_type": "stream",
     "text": [
      "{'Name': 'Vinod', 'Age': 25, 'Bike': 'Beneli'}\n",
      "{'Name': 'Vinod', 'Age': 8, 'Bike': 'Beneli'}\n"
     ]
    }
   ],
   "source": [
    "##Updating Dictionary\n",
    "dict1 = {'Name': 'Vinod', 'Age': 25, 'Bike': 'Beneli'}\n",
    "print(dict1)\n",
    "# update existing entry\n",
    "dict1['Age'] = 8 \n",
    "print(dict1)"
   ]
  },
  {
   "cell_type": "code",
   "execution_count": 45,
   "metadata": {},
   "outputs": [
    {
     "name": "stdout",
     "output_type": "stream",
     "text": [
      "{'Name': 'Neha', 'Age': 8, 'Bike': 'Activa'}\n"
     ]
    }
   ],
   "source": [
    "dict1['Name']='Neha'\n",
    "dict1['Bike']='Activa'\n",
    "print(dict1)"
   ]
  },
  {
   "cell_type": "code",
   "execution_count": 46,
   "metadata": {},
   "outputs": [
    {
     "name": "stdout",
     "output_type": "stream",
     "text": [
      "{'Name': 'Neha', 'Age': 8, 'Bike': 'Activa', 'Qualification': 'MBA', 'Place': 'Goa'}\n"
     ]
    }
   ],
   "source": [
    "#Adding additional key\n",
    "dict1['Qualification']='MBA'\n",
    "dict1['Place']='Goa'\n",
    "\n",
    "print(dict1)"
   ]
  },
  {
   "cell_type": "code",
   "execution_count": 47,
   "metadata": {},
   "outputs": [
    {
     "name": "stdout",
     "output_type": "stream",
     "text": [
      "[1, 2, 3]\n",
      "[4, 5, 6]\n",
      "[7, 8, 9]\n"
     ]
    }
   ],
   "source": [
    "Dict_Mult={'List1':[1,2,3],'List2':[4,5,6],'List3':[7,8,9]}\n",
    "print(Dict_Mult['List1'])\n",
    "print(Dict_Mult['List2'])\n",
    "print(Dict_Mult['List3'])"
   ]
  },
  {
   "cell_type": "code",
   "execution_count": null,
   "metadata": {},
   "outputs": [],
   "source": [
    "Dict_Mult"
   ]
  },
  {
   "cell_type": "code",
   "execution_count": 48,
   "metadata": {},
   "outputs": [
    {
     "data": {
      "text/plain": [
       "6"
      ]
     },
     "execution_count": 48,
     "metadata": {},
     "output_type": "execute_result"
    }
   ],
   "source": [
    "Dict_Mult['List2'][2]"
   ]
  },
  {
   "cell_type": "code",
   "execution_count": 49,
   "metadata": {},
   "outputs": [
    {
     "data": {
      "text/plain": [
       "9"
      ]
     },
     "execution_count": 49,
     "metadata": {},
     "output_type": "execute_result"
    }
   ],
   "source": [
    "Dict_Mult['List3'][2]"
   ]
  },
  {
   "cell_type": "code",
   "execution_count": 50,
   "metadata": {},
   "outputs": [
    {
     "data": {
      "text/plain": [
       "dict_keys(['List1', 'List2', 'List3'])"
      ]
     },
     "execution_count": 50,
     "metadata": {},
     "output_type": "execute_result"
    }
   ],
   "source": [
    "Dict_Mult.keys()"
   ]
  },
  {
   "cell_type": "code",
   "execution_count": 51,
   "metadata": {},
   "outputs": [
    {
     "data": {
      "text/plain": [
       "dict_values([[1, 2, 3], [4, 5, 6], [7, 8, 9]])"
      ]
     },
     "execution_count": 51,
     "metadata": {},
     "output_type": "execute_result"
    }
   ],
   "source": [
    "Dict_Mult.values()"
   ]
  },
  {
   "cell_type": "code",
   "execution_count": 52,
   "metadata": {},
   "outputs": [
    {
     "name": "stdout",
     "output_type": "stream",
     "text": [
      "1\n",
      "4\n",
      "7\n"
     ]
    }
   ],
   "source": [
    "for i in Dict_Mult.values():\n",
    "    print(i[0])"
   ]
  },
  {
   "cell_type": "code",
   "execution_count": 53,
   "metadata": {},
   "outputs": [
    {
     "name": "stdout",
     "output_type": "stream",
     "text": [
      "{'Name': 'Neha', 'Bike': 'Activa', 'Qualification': 'MBA', 'Place': 'Goa', 'Height': 5.6}\n",
      "{'Name': 'Neha', 'Bike': 'Activa', 'Qualification': 'MBA', 'Height': 5.6}\n",
      "{'Name': 'Neha', 'Qualification': 'MBA', 'Height': 5.6}\n"
     ]
    }
   ],
   "source": [
    "# Remove entry with key 'Age'\n",
    "dict1={'Name': 'Neha', 'Bike': 'Activa', 'Qualification': 'MBA', 'Place': 'Goa','Height':5.6}\n",
    "print(dict1)\n",
    "del(dict1['Place'])\n",
    "print(dict1)\n",
    "del(dict1['Bike'])\n",
    "print(dict1)"
   ]
  },
  {
   "cell_type": "code",
   "execution_count": 54,
   "metadata": {},
   "outputs": [
    {
     "name": "stdout",
     "output_type": "stream",
     "text": [
      "{'Name': 'Neha', 'Qualification': 'MBA', 'Height': 5.6}\n"
     ]
    },
    {
     "data": {
      "text/plain": [
       "{}"
      ]
     },
     "execution_count": 54,
     "metadata": {},
     "output_type": "execute_result"
    }
   ],
   "source": [
    "# Remove all entries in dict1\n",
    "print(dict1)\n",
    "dict1.clear() \n",
    "dict1"
   ]
  },
  {
   "cell_type": "code",
   "execution_count": null,
   "metadata": {
    "scrolled": true
   },
   "outputs": [],
   "source": [
    "# delete entire dictionary\n",
    "print(dict1)\n",
    "del(dict1)     \n",
    "print(dict1)"
   ]
  },
  {
   "cell_type": "code",
   "execution_count": null,
   "metadata": {},
   "outputs": [],
   "source": [
    "import pandas as pd\n",
    "dict1={'Name': ['Neha','Saran','Sriram','Shabarish','Rahul','Yukta','Prithviraj','Umesh','Vishwas','Charan'], 'Gender': ['F','M','M','M','M','F','M','M','M','M'],'Age':[5,7,4,2,5,6,3,5,8,5]}\n",
    "df=pd.DataFrame(dict1)\n",
    "df"
   ]
  },
  {
   "cell_type": "code",
   "execution_count": null,
   "metadata": {},
   "outputs": [],
   "source": [
    "Dict_Mult={'List1':[1,2,3],'List2':[4,5,6],'List3':[7,8,9]}\n",
    "#df=pd.DataFrame(Dict_Mult,index=[1,2,3])\n",
    "#df\n",
    "\n",
    "df=pd.Series(Dict_Mult)\n",
    "df"
   ]
  },
  {
   "cell_type": "code",
   "execution_count": null,
   "metadata": {},
   "outputs": [],
   "source": [
    "dict1 = {'Name':'Biswajit','Height':5.10,'Bike':'BMW','Car':'Audi','Sports':'Cricket','Place':'Goa'}\n",
    "print(dict1.keys())\n",
    "print(dict1.values())\n",
    "\n",
    "for x in dict1.values():\n",
    "    print(x)\n",
    "\n",
    "print('----------------')\n",
    "\n",
    "for x in dict1.keys():\n",
    "    print(x)"
   ]
  },
  {
   "cell_type": "code",
   "execution_count": null,
   "metadata": {},
   "outputs": [],
   "source": [
    "dict1.items()"
   ]
  },
  {
   "cell_type": "code",
   "execution_count": null,
   "metadata": {},
   "outputs": [],
   "source": [
    "for x, y in dict1.items():\n",
    "    print(x, y)"
   ]
  },
  {
   "cell_type": "code",
   "execution_count": 55,
   "metadata": {},
   "outputs": [
    {
     "data": {
      "text/plain": [
       "{'car_names': ['Verna', 'Swift', 'Baleno', 'i20', 'BMW'],\n",
       " 'rates': [80000, 50000, 60000, 75000, 49500],\n",
       " 'owner_name': ['vishal', 'praveen', 'sangmesh', 'kiran', 'radhika']}"
      ]
     },
     "execution_count": 55,
     "metadata": {},
     "output_type": "execute_result"
    }
   ],
   "source": [
    "vehicle_details= {'car_names': ['Verna', 'Swift', 'Baleno', 'i20', 'BMW'],\n",
    "                   'rates': [80000, 50000, 60000, 75000, 49500],\n",
    "                   'owner_name': ['vishal', 'praveen', 'sangmesh', 'kiran', 'radhika']}\n",
    "vehicle_details"
   ]
  },
  {
   "cell_type": "code",
   "execution_count": 56,
   "metadata": {},
   "outputs": [
    {
     "name": "stdout",
     "output_type": "stream",
     "text": [
      "{'car_names': ['Verna', 'Swift', 'Baleno', 'i20', 'BMW'], 'rates': [80000, 50000, 60000, 75000, 49500], 'owner_name': ['vishal', 'praveen', 'sangmesh', 'kiran', 'radhika']}\n",
      "{'car_names': ['Verna', 'Swift', 'Baleno', 'i20', 'BMW'], 'rates': [80000, 50000, 60000, 95000, 49500], 'owner_name': ['vishal', 'praveen', 'sangmesh', 'kiran', 'radhika']}\n"
     ]
    }
   ],
   "source": [
    "print(vehicle_details)\n",
    "vehicle_details['rates'][3]=95000\n",
    "print(vehicle_details)"
   ]
  },
  {
   "cell_type": "code",
   "execution_count": 57,
   "metadata": {},
   "outputs": [
    {
     "data": {
      "text/plain": [
       "{'Phone': ['Iphone', 'poco', 'realme', 'honor', 'oppo'],\n",
       " 'cost': [100000, 80000, 40000, 30000, 20000],\n",
       " 'Model': ['Iphone13pro', 'Poco X3 pro', 'realme 8i', 'Honor9', 'OPPO F19'],\n",
       " 'Customer': ['Ambika', 'Radhika', 'preeti', 'Vinod', 'Annarao'],\n",
       " 'Delivery dates': ['16 sept 2021',\n",
       "  '22 sept 2021',\n",
       "  '25 sept 2021',\n",
       "  '29 sept 2021',\n",
       "  '30 sept 2021']}"
      ]
     },
     "execution_count": 57,
     "metadata": {},
     "output_type": "execute_result"
    }
   ],
   "source": [
    "dict5={'Phone':['Iphone','poco','realme','honor','oppo'],\n",
    "       'cost':[100000, 80000, 40000, 30000, 20000],\n",
    "       'Model':['Iphone13pro', 'Poco X3 pro', 'realme 8i', 'Honor9', 'OPPO F19'],\n",
    "       'Customer':['Ambika', 'Radhika', 'preeti', 'Vinod', 'Annarao'],\n",
    "       'Delivery dates':['16 sept 2021', '22 sept 2021', '25 sept 2021', '29 sept 2021', '30 sept 2021']}\n",
    "dict5"
   ]
  },
  {
   "cell_type": "markdown",
   "metadata": {},
   "source": [
    "# Sets\n",
    "\n",
    "- Sets are mutable unordered sequence of unique elements \n",
    "- Sets are constructed from a sequence (or some other iterable object). \n",
    "- Since sets cannot have duplicated items, they are usually used to build sequence of unique items (e.g. set of identifiers).\n"
   ]
  },
  {
   "cell_type": "code",
   "execution_count": 1,
   "metadata": {},
   "outputs": [
    {
     "name": "stdout",
     "output_type": "stream",
     "text": [
      "first input: {'tiger', 'dog', 'lion', 'cat'}\n"
     ]
    },
    {
     "data": {
      "text/plain": [
       "{'cat', 'dog', 'lion', 'tiger'}"
      ]
     },
     "execution_count": 1,
     "metadata": {},
     "output_type": "execute_result"
    }
   ],
   "source": [
    "animals={'dog','cat','lion','tiger'}\n",
    "print(\"first input:\",animals)\n",
    "animals"
   ]
  },
  {
   "cell_type": "code",
   "execution_count": 2,
   "metadata": {},
   "outputs": [
    {
     "name": "stdout",
     "output_type": "stream",
     "text": [
      "second input: {'tiger', 'dog', 'cat', 'lion'}\n"
     ]
    },
    {
     "data": {
      "text/plain": [
       "{'cat', 'dog', 'lion', 'tiger'}"
      ]
     },
     "execution_count": 2,
     "metadata": {},
     "output_type": "execute_result"
    }
   ],
   "source": [
    "#\"dog\" is repeated two times, but sets cannot keep duplicate item, so one \"dog\" is removed\n",
    "\n",
    "animals1={'dog','dog','lion','tiger','cat'}\n",
    "print(\"second input:\",animals1)\n",
    "animals1"
   ]
  },
  {
   "cell_type": "code",
   "execution_count": null,
   "metadata": {},
   "outputs": [],
   "source": [
    "id(animals1)"
   ]
  },
  {
   "cell_type": "code",
   "execution_count": 3,
   "metadata": {},
   "outputs": [
    {
     "name": "stdout",
     "output_type": "stream",
     "text": [
      "['Mon', 'Mon', 'Tue', 'Wed', 'Wed', 'Thu', 'Fri', 'Sat', 'Sun', 'Sun']\n",
      "{'Fri', 'Sat', 'Sun', 'Mon', 'Tue', 'Wed', 'Thu'}\n",
      "['Fri', 'Sat', 'Sun', 'Mon', 'Tue', 'Wed', 'Thu']\n"
     ]
    }
   ],
   "source": [
    "#Creating a Set A set is created by using the set() function or placing all the elements within a pair of curly braces.\n",
    "\n",
    "Days=[\"Mon\",\"Mon\",\"Tue\",\"Wed\",\"Wed\",\"Thu\",\"Fri\",\"Sat\",\"Sun\",\"Sun\"]\n",
    "print(Days)\n",
    "Days1=set(Days)\n",
    "print(Days1)\n",
    "Days2=list(Days1)\n",
    "print(Days2)"
   ]
  },
  {
   "cell_type": "code",
   "execution_count": 4,
   "metadata": {},
   "outputs": [
    {
     "data": {
      "text/plain": [
       "{'Fri', 'Mon', 'Sat', 'Sun', 'Thu', 'Tue', 'Wed'}"
      ]
     },
     "execution_count": 4,
     "metadata": {},
     "output_type": "execute_result"
    }
   ],
   "source": [
    "Days=set([\"Mon\",\"Tue\",\"Wed\",\"Thu\",\"Fri\",\"Sat\",\"Sun\"])\n",
    "Days"
   ]
  },
  {
   "cell_type": "code",
   "execution_count": null,
   "metadata": {},
   "outputs": [],
   "source": [
    "Weekdays=set(['Wed', 'Sun', 'Fri', 'Tue', 'Mon', 'Thu', 'Sat'])\n",
    "Months=set(['Jan', 'Mar', 'Feb'])\n",
    "Dates=set([17, 21, 22])\n",
    "print(Weekdays)\n",
    "print(Months)\n",
    "print(Dates)"
   ]
  },
  {
   "cell_type": "code",
   "execution_count": 5,
   "metadata": {},
   "outputs": [
    {
     "data": {
      "text/plain": [
       "['Fri', 'Sat', 'Sun', 'Thu', 'Tue', 'Wed', 'Mon']"
      ]
     },
     "execution_count": 5,
     "metadata": {},
     "output_type": "execute_result"
    }
   ],
   "source": [
    "a=list({'Sun', 'Mon', 'Wed', 'Tue', 'Fri', 'Sat', 'Thu'})\n",
    "a"
   ]
  },
  {
   "cell_type": "code",
   "execution_count": 8,
   "metadata": {},
   "outputs": [
    {
     "ename": "SyntaxError",
     "evalue": "invalid syntax (<ipython-input-8-7534b457e851>, line 2)",
     "output_type": "error",
     "traceback": [
      "\u001b[1;36m  File \u001b[1;32m\"<ipython-input-8-7534b457e851>\"\u001b[1;36m, line \u001b[1;32m2\u001b[0m\n\u001b[1;33m    dict(a:b)\u001b[0m\n\u001b[1;37m          ^\u001b[0m\n\u001b[1;31mSyntaxError\u001b[0m\u001b[1;31m:\u001b[0m invalid syntax\n"
     ]
    }
   ],
   "source": [
    "b=[5,6,7,4,2,3,1]\n",
    "dict(a:b)"
   ]
  },
  {
   "cell_type": "code",
   "execution_count": 9,
   "metadata": {},
   "outputs": [
    {
     "name": "stdout",
     "output_type": "stream",
     "text": [
      "{'Fri', 'Sat', 'Sun', 'Mon', 'Tue', 'Wed', 'Thu'}\n",
      "Fri Sat Sun Mon Tue Wed Thu "
     ]
    }
   ],
   "source": [
    "#Accessing Values in a Set \n",
    "#We cannot access individual values in a set. \n",
    "#We can only access all the elements together.\n",
    "\n",
    "Days=set([\"Mon\",\"Tue\",\"Wed\",\"Thu\",\"Fri\",\"Sat\",\"Sun\"])\n",
    "print(Days) \n",
    "for d in Days:\n",
    "    print(d, end=' ') "
   ]
  },
  {
   "cell_type": "code",
   "execution_count": 11,
   "metadata": {},
   "outputs": [
    {
     "name": "stdout",
     "output_type": "stream",
     "text": [
      "Fri\n",
      "Sat\n",
      "Sun\n",
      "Mon\n",
      "Tue\n",
      "Wed\n",
      "Thu\n"
     ]
    }
   ],
   "source": [
    "for d in Days:\n",
    "    print(d)   "
   ]
  },
  {
   "cell_type": "code",
   "execution_count": 12,
   "metadata": {},
   "outputs": [
    {
     "ename": "TypeError",
     "evalue": "'set' object is not subscriptable",
     "output_type": "error",
     "traceback": [
      "\u001b[1;31m---------------------------------------------------------------------------\u001b[0m",
      "\u001b[1;31mTypeError\u001b[0m                                 Traceback (most recent call last)",
      "\u001b[1;32m<ipython-input-12-aa23c6284ba9>\u001b[0m in \u001b[0;36m<module>\u001b[1;34m\u001b[0m\n\u001b[1;32m----> 1\u001b[1;33m \u001b[0mDays\u001b[0m\u001b[1;33m[\u001b[0m\u001b[1;36m0\u001b[0m\u001b[1;33m]\u001b[0m\u001b[1;33m\u001b[0m\u001b[1;33m\u001b[0m\u001b[0m\n\u001b[0m",
      "\u001b[1;31mTypeError\u001b[0m: 'set' object is not subscriptable"
     ]
    }
   ],
   "source": [
    "Days[0]"
   ]
  },
  {
   "cell_type": "code",
   "execution_count": 13,
   "metadata": {},
   "outputs": [
    {
     "name": "stdout",
     "output_type": "stream",
     "text": [
      "{'Fri', 'Sat', 'Mon', 'Tue', 'Wed', 'Thu'}\n",
      "{'Fri', 'Sat', 'Sun', 'Mon', 'Tue', 'Wed', 'Thu'}\n"
     ]
    }
   ],
   "source": [
    "#Adding Items to a Set We can add elements to a set by using add() method. Again as discussed there is no specific index attached to the newly added element.\n",
    "\n",
    "Days=set([\"Mon\",\"Tue\",\"Wed\",\"Thu\",\"Fri\",\"Sat\"])\n",
    "print(Days)\n",
    "Days.add(\"Sun\")\n",
    "print(Days)"
   ]
  },
  {
   "cell_type": "code",
   "execution_count": 14,
   "metadata": {},
   "outputs": [
    {
     "name": "stdout",
     "output_type": "stream",
     "text": [
      "{'Fri', 'Sat', 'Sun', 'Mon', 'Tue', 'Wed', 'Thu'}\n",
      "{'Fri', 'Sat', 'Sun', 'Mon', 'Tue', 'Wed', 'Thu'}\n"
     ]
    }
   ],
   "source": [
    "print(Days)\n",
    "Days.add(\"Mon\")\n",
    "print(Days)"
   ]
  },
  {
   "cell_type": "code",
   "execution_count": 15,
   "metadata": {},
   "outputs": [
    {
     "name": "stdout",
     "output_type": "stream",
     "text": [
      "{'Fri', 'Sat', 'Sun', 'Mon', 'Tue', 'Wed', 'Thu'}\n",
      "{'Fri', 'Sat', 'Sun', 'Tue', 'Wed', 'Thu'}\n"
     ]
    }
   ],
   "source": [
    "#Removing Item from a Set We can remove elements from a set by using discard() method. Again as discussed there is no specific index attached to the newly added element.\n",
    "\n",
    "Days=set([\"Mon\",\"Tue\",\"Wed\",\"Thu\",\"Fri\",\"Sat\",\"Sun\"])\n",
    "print(Days) \n",
    "Days.discard(\"Mon\")\n",
    "print(Days)"
   ]
  },
  {
   "cell_type": "code",
   "execution_count": 16,
   "metadata": {},
   "outputs": [
    {
     "name": "stdout",
     "output_type": "stream",
     "text": [
      "{'Fri', 'Sat', 'Sun', 'Mon', 'Tue', 'Wed', 'Thu'}\n"
     ]
    }
   ],
   "source": [
    "#Union of Sets The union operation on two sets produces a new set containing all the distinct elements from both the sets. the below example the element “Wed” is present in both the sets.\n",
    "\n",
    "DaysA = set([\"Mon\",\"Tue\",\"Wed\",\"Thu\",\"Sat\"])\n",
    "DaysB = set([\"Wed\",\"Thu\",\"Fri\",\"Sat\",\"Sun\"])\n",
    "AllDays = DaysA|DaysB\n",
    "print(AllDays)"
   ]
  },
  {
   "cell_type": "code",
   "execution_count": 17,
   "metadata": {},
   "outputs": [
    {
     "name": "stdout",
     "output_type": "stream",
     "text": [
      "{'Sat', 'Wed'}\n"
     ]
    }
   ],
   "source": [
    "#Intersection of Sets The intersection operation on two sets produces a new set containing only the common elements from both the sets. In the below example the element “Wed” is present in both the sets.\n",
    "\n",
    "DaysA = set([\"Mon\",\"Tue\",\"Wed\",\"Sat\"])\n",
    "DaysB = set([\"Wed\",\"Thu\",\"Fri\",\"Sat\",\"Sun\"])\n",
    "AllDays = DaysA & DaysB\n",
    "print(AllDays)"
   ]
  },
  {
   "cell_type": "code",
   "execution_count": 18,
   "metadata": {},
   "outputs": [
    {
     "name": "stdout",
     "output_type": "stream",
     "text": [
      "{'Fri', 'Tue', 'Sun', 'Mon', 'Thu'}\n"
     ]
    }
   ],
   "source": [
    "#Symmetrical Difference - All elements from DaysA & DaysB except the common elements.\n",
    "DaysA = set([\"Mon\",\"Tue\",\"Wed\",\"Sat\"])\n",
    "DaysB = set([\"Wed\",\"Thu\",\"Fri\",\"Sat\",\"Sun\"])\n",
    "AllDays = DaysA^DaysB\n",
    "print(AllDays)"
   ]
  },
  {
   "cell_type": "code",
   "execution_count": 19,
   "metadata": {},
   "outputs": [
    {
     "name": "stdout",
     "output_type": "stream",
     "text": [
      "{'Tue', 'Mon'}\n",
      "{'Sat', 'Sun', 'Fri', 'Thu'}\n"
     ]
    }
   ],
   "source": [
    "#Difference of Sets The difference operation on two sets produces a new set containing only the elements from the first set and none from the second set. In the below example the element “Wed” is present in both the sets so it will not be found in the result set.\n",
    "\n",
    "DaysA = set([\"Mon\",\"Tue\",\"Wed\"])\n",
    "DaysB = set([\"Wed\",\"Thu\",\"Fri\",\"Sat\",\"Sun\"])\n",
    "AllDays = DaysA - DaysB\n",
    "print(AllDays)\n",
    "AllDays = DaysB - DaysA\n",
    "print(AllDays)"
   ]
  },
  {
   "cell_type": "markdown",
   "metadata": {},
   "source": [
    "## Super Set & Sub Set"
   ]
  },
  {
   "cell_type": "code",
   "execution_count": 23,
   "metadata": {},
   "outputs": [
    {
     "name": "stdout",
     "output_type": "stream",
     "text": [
      "True\n",
      "False\n"
     ]
    }
   ],
   "source": [
    "#Compare Sets We can check if a given set is a subset or superset of another set. \n",
    "#The result is True or False depending on the elements present in the sets.\n",
    "DaysA = set([\"Mon\",\"Tue\",\"Wed\"])\n",
    "DaysB = set([\"Mon\",\"Tue\",\"Wed\",\"Thu\",\"Fri\",\"Sat\",\"Sun\"])\n",
    "print(DaysA < DaysB)\n",
    "print(DaysA > DaysB)"
   ]
  },
  {
   "cell_type": "code",
   "execution_count": 26,
   "metadata": {},
   "outputs": [
    {
     "name": "stdout",
     "output_type": "stream",
     "text": [
      "True\n",
      "True\n"
     ]
    }
   ],
   "source": [
    "DaysA = set([\"Mon\",\"Tue\",\"Wed\"])\n",
    "DaysB = set([\"Mon\",\"Tue\",\"Wed\"])\n",
    "print(DaysA <= DaysB)\n",
    "print(DaysA >= DaysB)"
   ]
  },
  {
   "cell_type": "code",
   "execution_count": 24,
   "metadata": {},
   "outputs": [
    {
     "data": {
      "text/plain": [
       "False"
      ]
     },
     "execution_count": 24,
     "metadata": {},
     "output_type": "execute_result"
    }
   ],
   "source": [
    "SetA={'A','B','C','D','E','F','G'}\n",
    "SetB={'B','D','G'}\n",
    "SetC={'A','B','I'}\n",
    "\n",
    "SetA>=SetC"
   ]
  },
  {
   "cell_type": "code",
   "execution_count": null,
   "metadata": {},
   "outputs": [],
   "source": [
    "SetA>=SetB"
   ]
  },
  {
   "cell_type": "code",
   "execution_count": null,
   "metadata": {},
   "outputs": [],
   "source": [
    "#Is setB a subset of setA?\n",
    "SetB<SetA"
   ]
  },
  {
   "cell_type": "code",
   "execution_count": null,
   "metadata": {},
   "outputs": [],
   "source": [
    "print(SetA >= SetB)"
   ]
  },
  {
   "cell_type": "code",
   "execution_count": null,
   "metadata": {},
   "outputs": [],
   "source": [
    "print(SetA <= SetB)"
   ]
  },
  {
   "cell_type": "code",
   "execution_count": null,
   "metadata": {},
   "outputs": [],
   "source": [
    "a={1,2,4,5,9,6}\n",
    "b={3,7,8,1,2,9}\n",
    "c={1,9}"
   ]
  },
  {
   "cell_type": "code",
   "execution_count": null,
   "metadata": {},
   "outputs": [],
   "source": [
    "print(\"OR function in set:\",a|b)\n",
    "#\"OR\" combines all the element and takes unique value of combined element"
   ]
  },
  {
   "cell_type": "code",
   "execution_count": null,
   "metadata": {},
   "outputs": [],
   "source": [
    "print(\"AND function in set:\",a&b)\n",
    "#\"AND\" picks all the elements which are common in both the sets"
   ]
  },
  {
   "cell_type": "code",
   "execution_count": null,
   "metadata": {},
   "outputs": [],
   "source": [
    "print(\"Subset function in set:\",a<b)\n",
    "print(\"Subset function in set:\",c<b)\n",
    "#\"<\" function looks if all the elements of \"a\" is present in \"b\""
   ]
  },
  {
   "cell_type": "code",
   "execution_count": null,
   "metadata": {},
   "outputs": [],
   "source": [
    "a={1,2,4,5,9,6}\n",
    "b={3,7,8,1,2,9}\n",
    "c={1,9}\n",
    "\n",
    "print(\"Symmetric difference function in set:\",a^b)\n",
    "#\"^\" function combines all the element & removes all the common elements"
   ]
  },
  {
   "cell_type": "code",
   "execution_count": null,
   "metadata": {},
   "outputs": [],
   "source": [
    "#Sets are iterable\n",
    "\n",
    "animals={'dog','cat','lion','tiger'}\n",
    "print(animals)"
   ]
  },
  {
   "cell_type": "code",
   "execution_count": null,
   "metadata": {},
   "outputs": [],
   "source": [
    "i='cat' in animals\n",
    "print(\"cat in animals:\",i)\n",
    "j='crow' in animals\n",
    "print(\"crow in animals:\",j)"
   ]
  },
  {
   "cell_type": "code",
   "execution_count": null,
   "metadata": {},
   "outputs": [],
   "source": [
    "#'animals' contain lion, cat, dog & tiger.\n",
    "#Since 'cat' is in 'animals' set, the statement is true.\n",
    "#But 'crow' is not part of 'animals' set, so output is false."
   ]
  },
  {
   "cell_type": "code",
   "execution_count": 27,
   "metadata": {},
   "outputs": [
    {
     "name": "stdout",
     "output_type": "stream",
     "text": [
      "{'independence'}\n",
      "{'d', 'i', 'e', 'p', 'n', 'c'}\n"
     ]
    }
   ],
   "source": [
    "a={'independence'}\n",
    "print(a)\n",
    "a=set('independence')\n",
    "print(a)"
   ]
  },
  {
   "cell_type": "code",
   "execution_count": 28,
   "metadata": {},
   "outputs": [
    {
     "ename": "TypeError",
     "evalue": "'int' object is not iterable",
     "output_type": "error",
     "traceback": [
      "\u001b[1;31m---------------------------------------------------------------------------\u001b[0m",
      "\u001b[1;31mTypeError\u001b[0m                                 Traceback (most recent call last)",
      "\u001b[1;32m<ipython-input-28-8f1c51d093c8>\u001b[0m in \u001b[0;36m<module>\u001b[1;34m\u001b[0m\n\u001b[1;32m----> 1\u001b[1;33m \u001b[0mc\u001b[0m\u001b[1;33m=\u001b[0m\u001b[0mset\u001b[0m\u001b[1;33m(\u001b[0m\u001b[1;36m12345\u001b[0m\u001b[1;33m)\u001b[0m\u001b[1;33m\u001b[0m\u001b[1;33m\u001b[0m\u001b[0m\n\u001b[0m\u001b[0;32m      2\u001b[0m \u001b[0mprint\u001b[0m\u001b[1;33m(\u001b[0m\u001b[0mc\u001b[0m\u001b[1;33m)\u001b[0m\u001b[1;33m\u001b[0m\u001b[1;33m\u001b[0m\u001b[0m\n",
      "\u001b[1;31mTypeError\u001b[0m: 'int' object is not iterable"
     ]
    }
   ],
   "source": [
    "c=set(12345)\n",
    "print(c)"
   ]
  },
  {
   "cell_type": "code",
   "execution_count": null,
   "metadata": {},
   "outputs": [],
   "source": [
    "#Set always gives non-duplicate set of elements\n",
    "a=set('abracadabra')\n",
    "b=set('alacazam')\n",
    "print(\"Set a is\", a)\n",
    "print(\"Set b is\", b)\n",
    "print(a)\n",
    "print(b)"
   ]
  },
  {
   "cell_type": "code",
   "execution_count": null,
   "metadata": {},
   "outputs": [],
   "source": [
    "a={'c', 'b', 'a', 'r', 'd'}\n",
    "print(a)\n",
    "a={'abcb'}\n",
    "print(a)"
   ]
  },
  {
   "cell_type": "code",
   "execution_count": null,
   "metadata": {},
   "outputs": [],
   "source": [
    "#Letters in a but not in b\n",
    "a=set('abracadabra')\n",
    "b=set('alacazam')\n",
    "c=a-b\n",
    "print(\"Letters in a but not in b\",c)"
   ]
  },
  {
   "cell_type": "code",
   "execution_count": null,
   "metadata": {},
   "outputs": [],
   "source": [
    "#Letters in either a or b\n",
    "d=a|b\n",
    "print(\"Letters in either a or b\",d)\n",
    "Letters in either a or b {'c', 'z', 'b', 'a', 'm', 'r', 'l', 'd'}"
   ]
  },
  {
   "cell_type": "code",
   "execution_count": null,
   "metadata": {},
   "outputs": [],
   "source": [
    "#Letters in both a and b\n",
    "e=a&b\n",
    "print(\"Letters in both a and b\",e)"
   ]
  },
  {
   "cell_type": "code",
   "execution_count": null,
   "metadata": {},
   "outputs": [],
   "source": [
    "#Letters in a or b but not both\n",
    "f=a^b\n",
    "print(\"Letters in a or b but not both\",f)"
   ]
  },
  {
   "cell_type": "code",
   "execution_count": null,
   "metadata": {},
   "outputs": [],
   "source": []
  },
  {
   "cell_type": "code",
   "execution_count": null,
   "metadata": {},
   "outputs": [],
   "source": [
    "#Letters in a but not in b\n",
    "c=a-b\n",
    "print(\"Letters in a but not in b\",c)\n",
    "#Letters in either a or b\n",
    "d=a|b\n",
    "print(\"Letters in either a or b\",d)\n",
    "#Letters in both a and b\n",
    "e=a&b\n",
    "print(\"Letters in both a and b\",e)\n",
    "#Letters in a or b but not both\n",
    "f=a^b\n",
    "print(\"Letters in a or b but not both\",f)"
   ]
  },
  {
   "cell_type": "code",
   "execution_count": null,
   "metadata": {},
   "outputs": [],
   "source": []
  },
  {
   "cell_type": "code",
   "execution_count": null,
   "metadata": {},
   "outputs": [],
   "source": [
    "import pandas as pd\n",
    "import numpy as np"
   ]
  },
  {
   "cell_type": "code",
   "execution_count": null,
   "metadata": {},
   "outputs": [],
   "source": [
    "# importing data set using pandas\n",
    "cars = pd.read_csv(\"D:\\\\ALL DATA SCIENCE\\\\Learn Digital\\\\mtcars.csv\")"
   ]
  },
  {
   "cell_type": "code",
   "execution_count": null,
   "metadata": {},
   "outputs": [],
   "source": [
    "cars"
   ]
  },
  {
   "cell_type": "code",
   "execution_count": null,
   "metadata": {
    "scrolled": true
   },
   "outputs": [],
   "source": [
    "#To see the type of the data structure\n",
    "type(cars)"
   ]
  },
  {
   "cell_type": "code",
   "execution_count": null,
   "metadata": {},
   "outputs": [],
   "source": [
    "#Displays the first 5 rows in a dataframe. That is the default setting.\n",
    "cars.head()"
   ]
  },
  {
   "cell_type": "code",
   "execution_count": null,
   "metadata": {},
   "outputs": [],
   "source": [
    "#We can customize this by giving a value in the function. \n",
    "#Displays the first 10 rows in a dataframe\n",
    "cars.head(10)"
   ]
  },
  {
   "cell_type": "code",
   "execution_count": null,
   "metadata": {},
   "outputs": [],
   "source": [
    "#Displays the last 5 rows in a dataframe. That is the default setting.\n",
    "cars.tail()"
   ]
  },
  {
   "cell_type": "code",
   "execution_count": null,
   "metadata": {},
   "outputs": [],
   "source": [
    "#We can customize this by giving a value in the function. \n",
    "#Displays the last 15 rows in a dataframe\n",
    "cars.tail(15)"
   ]
  },
  {
   "cell_type": "code",
   "execution_count": null,
   "metadata": {},
   "outputs": [],
   "source": [
    "print(cars.head(10))\n",
    "cars.loc[[4,7],[\"disp\",\"qsec\"]]"
   ]
  },
  {
   "cell_type": "code",
   "execution_count": null,
   "metadata": {},
   "outputs": [],
   "source": [
    "cars.loc[[10,11,12,13,14,15],[\"mpg\",\"cyl\",\"gear\"]]\n",
    "#cars.loc[[10:15],[\"mpg\",\"cyl\",\"gear\"]]"
   ]
  },
  {
   "cell_type": "code",
   "execution_count": null,
   "metadata": {},
   "outputs": [],
   "source": [
    "cars.iloc[10:15,:4]"
   ]
  },
  {
   "cell_type": "code",
   "execution_count": null,
   "metadata": {},
   "outputs": [],
   "source": [
    "cars.mean()"
   ]
  },
  {
   "cell_type": "code",
   "execution_count": null,
   "metadata": {},
   "outputs": [],
   "source": [
    "cars.skew()"
   ]
  },
  {
   "cell_type": "code",
   "execution_count": null,
   "metadata": {},
   "outputs": [],
   "source": [
    "cars[\"mpg\"].skew()"
   ]
  },
  {
   "cell_type": "code",
   "execution_count": null,
   "metadata": {},
   "outputs": [],
   "source": [
    "cars.kurt()"
   ]
  },
  {
   "cell_type": "code",
   "execution_count": null,
   "metadata": {},
   "outputs": [],
   "source": [
    "cars[\"qsec\"].kurt()"
   ]
  },
  {
   "cell_type": "code",
   "execution_count": null,
   "metadata": {},
   "outputs": [],
   "source": [
    "#range(5)\n",
    "\n",
    "x1 = [1,  2, 3, 4, 5] # list format \n",
    "x2 = [10, 11, 12,100,11]  # list format \n",
    "x3 = list(range(5)) #0,1,2,3,4"
   ]
  },
  {
   "cell_type": "code",
   "execution_count": null,
   "metadata": {},
   "outputs": [],
   "source": [
    "print(x1)\n",
    "print(x2)\n",
    "print(x3)"
   ]
  },
  {
   "cell_type": "code",
   "execution_count": null,
   "metadata": {},
   "outputs": [],
   "source": [
    "# Creating a data frame using explicits lists\n",
    "X = pd.DataFrame(columns = [\"X1\",\"X2\",\"X3\"]) \n",
    "X"
   ]
  },
  {
   "cell_type": "code",
   "execution_count": null,
   "metadata": {},
   "outputs": [],
   "source": [
    "#X.X1 or X[\"X1\"]\n",
    "\n",
    "#list -> Series -> Dataframe\n",
    "\n",
    "#series - single column DF\n",
    "#DF - More than one column in DF"
   ]
  },
  {
   "cell_type": "code",
   "execution_count": null,
   "metadata": {},
   "outputs": [],
   "source": [
    "X[\"X1\"] = pd.Series(x1)  # Converting list format into pandas series format\n",
    "X[\"X2\"] = pd.Series(x2) # Converting list format into pandas series format\n",
    "X[\"X3\"] = pd.Series(x3)\n",
    "\n",
    "X"
   ]
  },
  {
   "cell_type": "code",
   "execution_count": null,
   "metadata": {},
   "outputs": [],
   "source": [
    "cars['mpg']"
   ]
  },
  {
   "cell_type": "code",
   "execution_count": null,
   "metadata": {},
   "outputs": [],
   "source": [
    "cars[['mpg','cyl','gear']]"
   ]
  },
  {
   "cell_type": "code",
   "execution_count": null,
   "metadata": {},
   "outputs": [],
   "source": [
    "X"
   ]
  },
  {
   "cell_type": "code",
   "execution_count": null,
   "metadata": {},
   "outputs": [],
   "source": [
    "X.iloc[2:5,:]"
   ]
  },
  {
   "cell_type": "code",
   "execution_count": null,
   "metadata": {},
   "outputs": [],
   "source": [
    "X.iloc[2:4,1:3]"
   ]
  },
  {
   "cell_type": "markdown",
   "metadata": {},
   "source": [
    "# index values\n",
    "X.iloc[0:3,1]  #0,1,2-rows of 1st column\n",
    "\n",
    "X.iloc[:,[1,2]] #0,1,2 rows of 0 and 1 columns\n",
    "\n",
    "X.iloc[:,:] # to get entire data frame "
   ]
  },
  {
   "cell_type": "code",
   "execution_count": null,
   "metadata": {},
   "outputs": [],
   "source": [
    "X[\"X1\"] = x1 # Converting list format into pandas series format\n",
    "X[\"X2\"] = x2 # Converting list format into pandas series format\n",
    "X[\"X3\"] = x3\n",
    "\n",
    "\n",
    "\n",
    "\n",
    "\n",
    "\n",
    "\n",
    "\n",
    "\n",
    "\n",
    "\n",
    "\n",
    "\n",
    "\n",
    "# accessing columns using \".\" (dot) operation\n",
    "X.X1\n",
    "# accessing columns alternative way\n",
    "X[\"X1\"]\n",
    "\n",
    "# Accessing multiple columns : giving column names as input in list format\n",
    "variable = X[[\"X1\",\"X2\"]]\n",
    "variable\n",
    "\n",
    "X[[\"X1\",\"X2\",\"X3\"]]\n",
    "\n",
    "# Accessing elements using \".iloc\" and loc : accessing each cell by row and column \n",
    "\n",
    "#iloc - integer location\n",
    "#loc - string location\n",
    "\n",
    "X\n",
    "\n",
    "\n",
    "\n",
    "X.loc[1:3,\"X3\"]\n",
    "X.loc[1:3,[\"X1\",\"X3\"]]\n",
    "\n",
    "X.loc[[1,3,4],[\"X1\",\"X2\"]]\n",
    "\n",
    "X.loc[0:3,[\"X1\",\"X2\"]] #0,1,2\n",
    "\n",
    "# checking the type of variable \n",
    "type(X.X1) # pandas series object\n",
    "\n",
    "type(X)\n",
    "\n",
    "# to create a data frame \n",
    "type(X.X2)\n",
    "type(X[\"X2\"])\n",
    "\n",
    "df = pd.DataFrame(columns=[\"A\",\"B\",\"C\"])\n",
    "\n",
    "# np.random.randint(a,b,c) \n",
    "# a - > starting number\n",
    "# b - > Ending number\n",
    "# c - > no. of numbers to be generated \n",
    "\n",
    "\n",
    "df[\"A\"] = pd.Series(list(np.random.randint(1,100,50)))   #randint - random integers\n",
    "df[\"B\"] = pd.Series(list(np.random.choice([0,1],size = 55))) #first\n",
    "df[\"C\"] = 15\n",
    "\n",
    "df"
   ]
  },
  {
   "cell_type": "code",
   "execution_count": null,
   "metadata": {},
   "outputs": [],
   "source": [
    "#To generate summary statistics\n",
    "cars.describe()"
   ]
  },
  {
   "cell_type": "code",
   "execution_count": null,
   "metadata": {},
   "outputs": [],
   "source": [
    "#Importing the data in a csv file into a dataframe in Anaconda environment\n",
    "\n",
    "df = pd.read_csv(\"https://raw.githubusercontent.com/Apress/data-analysis-and-visualization-using-python/master/Ch07/Salaries.csv\")"
   ]
  },
  {
   "cell_type": "code",
   "execution_count": null,
   "metadata": {},
   "outputs": [],
   "source": [
    "df"
   ]
  },
  {
   "cell_type": "code",
   "execution_count": null,
   "metadata": {},
   "outputs": [],
   "source": [
    "df['rank'].value_counts()"
   ]
  },
  {
   "cell_type": "code",
   "execution_count": null,
   "metadata": {},
   "outputs": [],
   "source": [
    "df['discipline'].value_counts()"
   ]
  },
  {
   "cell_type": "code",
   "execution_count": null,
   "metadata": {},
   "outputs": [],
   "source": [
    "df['sex'].value_counts()"
   ]
  },
  {
   "cell_type": "code",
   "execution_count": null,
   "metadata": {},
   "outputs": [],
   "source": [
    "#To display the column names in a dataframe\n",
    "df.columns"
   ]
  },
  {
   "cell_type": "code",
   "execution_count": null,
   "metadata": {},
   "outputs": [],
   "source": [
    "cars.columns"
   ]
  },
  {
   "cell_type": "code",
   "execution_count": null,
   "metadata": {},
   "outputs": [],
   "source": [
    "cars.dtypes"
   ]
  },
  {
   "cell_type": "code",
   "execution_count": null,
   "metadata": {},
   "outputs": [],
   "source": [
    "df.dtypes"
   ]
  },
  {
   "cell_type": "code",
   "execution_count": null,
   "metadata": {},
   "outputs": [],
   "source": []
  },
  {
   "cell_type": "code",
   "execution_count": null,
   "metadata": {},
   "outputs": [],
   "source": []
  },
  {
   "cell_type": "code",
   "execution_count": null,
   "metadata": {},
   "outputs": [],
   "source": []
  },
  {
   "cell_type": "code",
   "execution_count": null,
   "metadata": {},
   "outputs": [],
   "source": []
  },
  {
   "cell_type": "code",
   "execution_count": null,
   "metadata": {},
   "outputs": [],
   "source": [
    "# Graphical Representation of data\n",
    "import matplotlib.pyplot as plt"
   ]
  },
  {
   "cell_type": "code",
   "execution_count": null,
   "metadata": {},
   "outputs": [],
   "source": [
    "# Histogram\n",
    "plt.hist(cars['mpg']) # left skew "
   ]
  },
  {
   "cell_type": "code",
   "execution_count": null,
   "metadata": {},
   "outputs": [],
   "source": [
    "#Boxplot\n",
    "help(plt.boxplot)"
   ]
  },
  {
   "cell_type": "code",
   "execution_count": null,
   "metadata": {},
   "outputs": [],
   "source": [
    "plt.boxplot(cars)"
   ]
  },
  {
   "cell_type": "code",
   "execution_count": null,
   "metadata": {},
   "outputs": [],
   "source": [
    "plt.boxplot(cars[\"mpg\"],vert = False)"
   ]
  },
  {
   "cell_type": "code",
   "execution_count": null,
   "metadata": {},
   "outputs": [],
   "source": [
    "plt.boxplot(cars['mpg'],vert =False);\n",
    "plt.ylabel(\"mpg\")\n",
    "plt.xlabel(\"Boxplot\")\n",
    "plt.title(\"Boxplot\")  # for vertical\n"
   ]
  },
  {
   "cell_type": "code",
   "execution_count": null,
   "metadata": {},
   "outputs": [],
   "source": [
    "plt.boxplot(cars['mpg'],vert =True);\n",
    "plt.ylabel(\"mpg\")\n",
    "plt.xlabel(\"Boxplot\")\n",
    "plt.title(\"Boxplot\")  # for vertical\n"
   ]
  },
  {
   "cell_type": "code",
   "execution_count": null,
   "metadata": {},
   "outputs": [],
   "source": [
    "plt.boxplot(cars['disp'],1,'rs',1)# For Horizontal"
   ]
  },
  {
   "cell_type": "code",
   "execution_count": null,
   "metadata": {},
   "outputs": [],
   "source": [
    "# Barplot\n",
    "# bar plot we need height i.e value of each data\n",
    "# left - for starting point of each bar plot of data on X-axis(Horizontal axis). Here data is mba['gmat']\n",
    "index = np.arange(773) # np.arange(a)  = > creates consecutive numbers from \n",
    "# 0 to 772 "
   ]
  },
  {
   "cell_type": "code",
   "execution_count": null,
   "metadata": {},
   "outputs": [],
   "source": [
    "index"
   ]
  },
  {
   "cell_type": "code",
   "execution_count": null,
   "metadata": {},
   "outputs": [],
   "source": [
    "help(plt.bar)"
   ]
  },
  {
   "cell_type": "code",
   "execution_count": null,
   "metadata": {},
   "outputs": [],
   "source": [
    "data = {'C':20, 'C++':15, 'Java':30,'Python':35}\n",
    "courses = list(data.keys())\n",
    "values = list(data.values()) \n",
    "print(courses)\n",
    "print(values)"
   ]
  },
  {
   "cell_type": "code",
   "execution_count": null,
   "metadata": {},
   "outputs": [],
   "source": [
    "fig = plt.figure(figsize = (10, 5))\n",
    " \n",
    "# creating the bar plot\n",
    "plt.bar(courses, values, color ='maroon',width = 0.4)\n",
    " \n",
    "plt.xlabel(\"Courses offered\")\n",
    "plt.ylabel(\"No. of students enrolled\")\n",
    "plt.title(\"Students enrolled in different courses\")\n",
    "plt.show()"
   ]
  },
  {
   "cell_type": "code",
   "execution_count": null,
   "metadata": {},
   "outputs": [],
   "source": [
    "# dimensions of data frame \n",
    "cars.shape"
   ]
  },
  {
   "cell_type": "code",
   "execution_count": null,
   "metadata": {},
   "outputs": [],
   "source": [
    "cars.head(10)"
   ]
  },
  {
   "cell_type": "code",
   "execution_count": null,
   "metadata": {},
   "outputs": [],
   "source": [
    "# table \n",
    "pd.crosstab(cars.gear,cars.cyl)      #32 rows"
   ]
  },
  {
   "cell_type": "code",
   "execution_count": null,
   "metadata": {},
   "outputs": [],
   "source": [
    "# bar plot between 2 different categories \n",
    "pd.crosstab(cars.gear,cars.cyl).plot(kind=\"bar\")"
   ]
  },
  {
   "cell_type": "code",
   "execution_count": null,
   "metadata": {},
   "outputs": [],
   "source": [
    "cars[\"gear\"].value_counts()"
   ]
  },
  {
   "cell_type": "code",
   "execution_count": null,
   "metadata": {},
   "outputs": [],
   "source": [
    "cars[\"cyl\"].value_counts()"
   ]
  },
  {
   "cell_type": "code",
   "execution_count": null,
   "metadata": {},
   "outputs": [],
   "source": [
    "cars[\"carb\"].value_counts()"
   ]
  },
  {
   "cell_type": "code",
   "execution_count": null,
   "metadata": {},
   "outputs": [],
   "source": [
    "cars.gear.value_counts().plot(kind=\"pie\")"
   ]
  },
  {
   "cell_type": "code",
   "execution_count": null,
   "metadata": {},
   "outputs": [],
   "source": [
    "import seaborn as sns "
   ]
  },
  {
   "cell_type": "code",
   "execution_count": null,
   "metadata": {},
   "outputs": [],
   "source": [
    "# getting boxplot of mpg with respect to each category of gears \n",
    "sns.boxplot(x=\"gear\",y=\"mpg\",data=cars)"
   ]
  },
  {
   "cell_type": "code",
   "execution_count": null,
   "metadata": {},
   "outputs": [],
   "source": [
    "sns.pairplot(cars.iloc[:,0:6]) # histogram of each column and \n",
    "# scatter plot of each variable with respect to other columns "
   ]
  },
  {
   "cell_type": "code",
   "execution_count": null,
   "metadata": {},
   "outputs": [],
   "source": [
    "plt.scatter(cars.wt,cars.mpg)## scatter plot of two variables"
   ]
  },
  {
   "cell_type": "code",
   "execution_count": null,
   "metadata": {},
   "outputs": [],
   "source": [
    "plt.scatter(cars.mpg,cars.qsec)"
   ]
  },
  {
   "cell_type": "code",
   "execution_count": null,
   "metadata": {},
   "outputs": [],
   "source": [
    "plt.plot(cars.mpg,\"rs-\") # scatter plot of single variable"
   ]
  },
  {
   "cell_type": "code",
   "execution_count": null,
   "metadata": {},
   "outputs": [],
   "source": [
    "plt.plot(cars.mpg,\"ro-\")"
   ]
  },
  {
   "cell_type": "code",
   "execution_count": null,
   "metadata": {},
   "outputs": [],
   "source": []
  },
  {
   "cell_type": "markdown",
   "metadata": {},
   "source": [
    "# Conditional Statements"
   ]
  },
  {
   "cell_type": "code",
   "execution_count": null,
   "metadata": {},
   "outputs": [],
   "source": [
    "# If\n",
    "# If the number is positive, we print an appropriate message\n",
    "\n",
    "num = 2\n",
    "if num > 0:\n",
    "    print(num, \"is a positive number.\")\n",
    "    \n"
   ]
  },
  {
   "cell_type": "code",
   "execution_count": null,
   "metadata": {},
   "outputs": [],
   "source": [
    "num = -2\n",
    "if num > 0:\n",
    "    print(num, \"is a positive number.\")\n",
    "    \n",
    "print(\"This is always printed.\")"
   ]
  },
  {
   "cell_type": "code",
   "execution_count": null,
   "metadata": {},
   "outputs": [],
   "source": [
    "# If else:\n",
    "num = -8\n",
    "\n",
    "if (num >= 0):\n",
    "    print(\"Positive or Zero\")\n",
    "else:\n",
    "    print(\"Negative number\")"
   ]
  },
  {
   "cell_type": "code",
   "execution_count": null,
   "metadata": {},
   "outputs": [],
   "source": [
    "num=8\n",
    "if num>=0:\n",
    "    print(\"Positive/Zero\")\n",
    "else:\n",
    "    print(\"Negative\")"
   ]
  },
  {
   "cell_type": "code",
   "execution_count": null,
   "metadata": {},
   "outputs": [],
   "source": [
    "## Define a function with conditional statement\n",
    "\n",
    "def max_num(num1,num2,num3):\n",
    "\n",
    "    if num1 >= num2 and num1 >= num3:\n",
    "        return num1\n",
    "\n",
    "    elif num2 >= num1 and num2 >= num3:\n",
    "        return num2\n",
    "\n",
    "    else:\n",
    "        return num3\n",
    "    "
   ]
  },
  {
   "cell_type": "code",
   "execution_count": null,
   "metadata": {},
   "outputs": [],
   "source": [
    "max_num(2,5,9)"
   ]
  },
  {
   "cell_type": "code",
   "execution_count": null,
   "metadata": {},
   "outputs": [],
   "source": [
    "#The objective of this function is to find the minimum number when user enters 3 numbers\n",
    "def min_num(x,y,z):\n",
    "    if x <= y and x <= z:\n",
    "        return x\n",
    "    elif y <= x and y <= z:\n",
    "        return y\n",
    "    else:\n",
    "        return z\n",
    "\n",
    "min_num(5,7,4)    \n",
    "\n"
   ]
  },
  {
   "cell_type": "markdown",
   "metadata": {},
   "source": [
    "Define a function which fetches the mode value/ the most frequent value from the numbers given by the user.\n",
    "\n",
    "Create a simple if and else code, which displays if a person is eligible for voting or not, given the user's age (You can define an object first which stores the value for age, and then give your conditions.)\n",
    "\n",
    "Define a function that displays the capital of the country as the user enters the name of the country.(Atleast 5 countries you can enter in the code for which the capitals would be displayed)\n",
    "\n",
    "Define a function which can mention if a number is a multiple of 2.\n",
    "\n",
    "Define a function which can tell if a particular letter entered by user is a vowel or a consonant\n",
    "\n",
    "After this you can take a break\n",
    "\n",
    "\n",
    "Now using your creativity, you can define your own function with the if and else statement\n",
    "Please create any 2 functions \n",
    "and then I will move to the 'for' loop"
   ]
  },
  {
   "cell_type": "code",
   "execution_count": null,
   "metadata": {},
   "outputs": [],
   "source": [
    "def food(x):\n",
    "    if x =='Brown':\n",
    "        print(\"It is Briyani\")\n",
    "    else:\n",
    "        print(\"It is not briyani\")\n",
    "            \n",
    "food('Orange')"
   ]
  },
  {
   "cell_type": "code",
   "execution_count": null,
   "metadata": {},
   "outputs": [],
   "source": [
    "def vowel_consonant(l):\n",
    "    l1 = l.lower()\n",
    "    if l1 == 'a' or l1 == 'e' or l1 == 'i' or l1 == 'o' or  l1 == 'u':\n",
    "        return \"Vowel\"\n",
    "    else:\n",
    "        return \"Consonant\"\n",
    "vowel_consonant('Z')"
   ]
  },
  {
   "cell_type": "code",
   "execution_count": null,
   "metadata": {},
   "outputs": [],
   "source": [
    "score_theory = 40\n",
    "if(score_theory > 40):\n",
    "    print(\"Pass\")\n",
    "else:\n",
    "    print(\"Fail\")"
   ]
  },
  {
   "cell_type": "code",
   "execution_count": null,
   "metadata": {},
   "outputs": [],
   "source": [
    "def country(x):\n",
    "    if x=='INDIA':\n",
    "        print(\"The capital of INDIA is Delhi\")\n",
    "    elif x=='AUSTRALIA':\n",
    "        print(\"The capital of AUSTRALIA is Canberra\")\n",
    "    elif x=='FRANCE':\n",
    "        print(\"The capital of FRANCE is Paris\")\n",
    "    elif x=='GERMANY':\n",
    "        print(\"The capital of GERMANY is Berlin\")\n",
    "    elif x=='JAPAN':\n",
    "        print(\"The capital of JAPAN is Tokyo\")\n",
    "    else:\n",
    "        print(\"Enter valid Country code\")\n",
    "        \n",
    "country('FRANCE')"
   ]
  },
  {
   "cell_type": "code",
   "execution_count": null,
   "metadata": {},
   "outputs": [],
   "source": [
    "list1= [21, 13, 19, 13,19,13]\n",
    "list1\n",
    "mode=max(list1,key=list1.count)\n",
    "print(mode)"
   ]
  },
  {
   "cell_type": "code",
   "execution_count": null,
   "metadata": {},
   "outputs": [],
   "source": [
    "a = [54,54,70,82,70,90,82]\n",
    "mode=max(a,key=a.count)\n",
    "print(mode)"
   ]
  },
  {
   "cell_type": "code",
   "execution_count": null,
   "metadata": {},
   "outputs": [],
   "source": [
    "# Nested If\n",
    "num = int(input(\"Enter a number: \"))\n",
    "\n",
    "if num >= 0:\n",
    "    if num == 0:\n",
    "        print(\"Zero\")\n",
    "    else:\n",
    "        print(\"Positive number\")\n",
    "else:\n",
    "    print(\"Negative number\")"
   ]
  },
  {
   "cell_type": "code",
   "execution_count": null,
   "metadata": {},
   "outputs": [],
   "source": [
    "num = int(input(\"Enter a number: \"))\n",
    "\n",
    "if num >= 0:\n",
    "    if num == 0:\n",
    "        print(\"Zero\")\n",
    "    else:\n",
    "        print(\"Positive number\")\n",
    "else:\n",
    "    print(\"Negative number\")"
   ]
  },
  {
   "cell_type": "code",
   "execution_count": null,
   "metadata": {},
   "outputs": [],
   "source": [
    "num = int(input(\"Enter a number: \"))\n",
    "\n",
    "if num >= 0:\n",
    "    if num == 0:\n",
    "        print(\"Zero\")\n",
    "    else:\n",
    "        print(\"Positive number\")\n",
    "else:\n",
    "    print(\"Negative number\")"
   ]
  },
  {
   "cell_type": "markdown",
   "metadata": {},
   "source": [
    "# Loops"
   ]
  },
  {
   "cell_type": "code",
   "execution_count": null,
   "metadata": {},
   "outputs": [],
   "source": [
    "# for Loop\n",
    "# for each item in sequence , till the last item reached, the loop will keep executing \n",
    "\n",
    "#Ex:1\n",
    "\n",
    "snacks = ['pizza','burger','shawarma','franky']\n",
    "\n",
    "for x in snacks:\n",
    "    print(\"Enjoy your snack: \", x)\n",
    "\n",
    "print(\"Good night!\")"
   ]
  },
  {
   "cell_type": "code",
   "execution_count": null,
   "metadata": {},
   "outputs": [],
   "source": [
    "num=[4,7,5,2,3,6,5,4,8,9,1,2]\n",
    "\n",
    "for i in num:\n",
    "    if i%2==0:\n",
    "        print(i,'is even number')\n",
    "    else:\n",
    "        print(i,'is not even number')"
   ]
  },
  {
   "cell_type": "code",
   "execution_count": null,
   "metadata": {},
   "outputs": [],
   "source": [
    "#Ex:2\n",
    "\n",
    "num = int(input(\"number: \"))\n",
    "factorial =1\n",
    "\n",
    "if num < 0:\n",
    "    print(\"must be positive\")\n",
    "elif num == 0:\n",
    "    print(\"factorial = 1\")\n",
    "else:\n",
    "    for i in range(1,num+1):         #1,2,3,4,5,6\n",
    "        factorial = factorial * i\n",
    "    print(\"factorial =  \" ,factorial)\n"
   ]
  },
  {
   "cell_type": "code",
   "execution_count": null,
   "metadata": {},
   "outputs": [],
   "source": [
    "x = range(5)   #0,1,2,3,4\n",
    "for i in x:\n",
    "    print(i)"
   ]
  },
  {
   "cell_type": "code",
   "execution_count": null,
   "metadata": {},
   "outputs": [],
   "source": [
    "#Nested for loop\n",
    "\n",
    "for i in range(0,3):    #0,1,2\n",
    "    for j in range(0,3):   #0,1,2\n",
    "        print(i,j)"
   ]
  },
  {
   "cell_type": "code",
   "execution_count": null,
   "metadata": {},
   "outputs": [],
   "source": [
    "########################## While Loop #############################\n",
    "# Program to add natural numbers\n",
    "# Enter the loop , test expression , true , body of code , if false - exit loop.\n",
    "# numbers upto\n",
    "# sum = 1+2+3+...+n\n",
    "\n",
    "#To take input from the user,\n",
    "n = int(input(\"Enter n: \"))\n",
    "\n",
    "n = 6\n",
    "#1+2+3+4+5+6\n",
    "\n",
    "# initialize sum and counter\n",
    "summation = 0\n",
    "i = 1\n",
    "\n",
    "while i <= n:\n",
    "    summation = summation + i\n",
    "    i = i+1    # update counter\n",
    "\n",
    "# print the sum\n",
    "print(\"The sum is\", summation)\n"
   ]
  },
  {
   "cell_type": "code",
   "execution_count": null,
   "metadata": {},
   "outputs": [],
   "source": [
    "#factorial of a number\n",
    "n=int(input(\"Enter the number:\"))\n",
    "count=1\n",
    "\n",
    "while n>0:\n",
    "    count=count*n\n",
    "    n=n-1\n",
    "    \n",
    "print (\"the factorial of number:\",count)"
   ]
  },
  {
   "cell_type": "code",
   "execution_count": null,
   "metadata": {},
   "outputs": [],
   "source": [
    "word=list('Python_is_great')\n",
    "n=0\n",
    "while n<len(word):\n",
    "    print(word[n])\n",
    "    n=n+1"
   ]
  },
  {
   "cell_type": "code",
   "execution_count": null,
   "metadata": {},
   "outputs": [],
   "source": [
    "# While loop with else\n",
    "# Example to illustrate\n",
    "# the use of else statement\n",
    "# with the while loop\n",
    "\n",
    "counter = 0\n",
    "\n",
    "while counter < 3:\n",
    "    print(\"Inside loop\")\n",
    "    counter = counter + 1\n",
    "else:\n",
    "    print(\"Inside else\")\n"
   ]
  },
  {
   "cell_type": "code",
   "execution_count": null,
   "metadata": {},
   "outputs": [],
   "source": [
    "\n",
    "# For loop with else:\n",
    "digits = [0, 1, 5]\n",
    "\n",
    "for i in digits:\n",
    "    print(i)\n",
    "else:\n",
    "    print(\"No items left.\")\n",
    "\n",
    "#Ex: 1\n",
    "\n",
    "count = 0\n",
    "\n",
    "while count < 20:\n",
    "    print(\"Digit: \", count)\n",
    "    count = count + 1\n",
    "\n",
    "print(\"Thank you\")\n",
    "\n",
    "#Ex: 2\n",
    "\n"
   ]
  },
  {
   "cell_type": "code",
   "execution_count": null,
   "metadata": {},
   "outputs": [],
   "source": [
    "import random\n",
    "\n",
    "n = 20\n",
    "\n",
    "random_number = int(n * random.random())\n",
    "\n",
    "guess = 0\n",
    "\n",
    "while guess != random_number:\n",
    "    guess = int(input(\"New Number: \"))\n",
    "    if guess > 0:\n",
    "        if guess > random_number:\n",
    "            print(\"number is too large\")\n",
    "        elif guess < random_number:\n",
    "            print(\"number is too small\")\n",
    "    else:\n",
    "        print(\"sorry that you are giveup!\")\n",
    "        break\n",
    "else:\n",
    "    print(\"Congratulations. YOU WON!\")\n"
   ]
  },
  {
   "cell_type": "code",
   "execution_count": null,
   "metadata": {},
   "outputs": [],
   "source": [
    "# Strings\n",
    "# strings are used to record textual information as well as arbitary collections of bytes.\n",
    "# Accesing Value in Strings\n",
    "Name = \"Johnny\"\n",
    "\n",
    "print(Name)    #Johnny\n",
    "\n",
    "print(Name[0])   #J\n",
    "\n",
    "print(Name[3:])   #nny\n",
    "\n",
    "print(Name[-1])  #y\n",
    "\n",
    "print(Name[-3:-1])  #nn\n"
   ]
  },
  {
   "cell_type": "code",
   "execution_count": null,
   "metadata": {},
   "outputs": [],
   "source": [
    "# Update Strings\n",
    "\n",
    "var1 = 'Hello worlds'\n",
    "print(var1)\n",
    "\n",
    "var1[:5]\n",
    "\n",
    "print(\"Updated String: \", var1 , 'Python')\n",
    "print(\"Updated String :- \", var1[:5] + ' Python')\n"
   ]
  },
  {
   "cell_type": "code",
   "execution_count": null,
   "metadata": {},
   "outputs": [],
   "source": [
    "# String Formating\n",
    "print(\"My name is %s and weight is %d kgs! my father name is %s \" %\n",
    "      (\"vinod\", 70, 'narasimha rao'))\n"
   ]
  },
  {
   "cell_type": "code",
   "execution_count": null,
   "metadata": {},
   "outputs": [],
   "source": [
    "#Ex :1\n",
    "\n",
    "Name = input(\"Enter your name: \")\n",
    "\n",
    "Age = int(input(\"Please Enter your age:\"))\n",
    "\n",
    "\n",
    "print(Name)\n",
    "print(Age)"
   ]
  },
  {
   "cell_type": "code",
   "execution_count": null,
   "metadata": {},
   "outputs": [],
   "source": [
    "P=int(input(\"Enter the amount invested: \"))\n",
    "t=int(input(\"Enter the duration in years: \"))\n",
    "r=5\n",
    "Interest=(P * t * r)/100\n",
    "Interest\n",
    "\n",
    "print(P)\n",
    "print(t)\n",
    "print(Interest)"
   ]
  },
  {
   "cell_type": "code",
   "execution_count": null,
   "metadata": {},
   "outputs": [],
   "source": [
    "Name = \"welcome to python\"\n",
    "print(Name.capitalize())\n",
    "print(Name.upper())\n",
    "print(Name.strip())"
   ]
  },
  {
   "cell_type": "code",
   "execution_count": null,
   "metadata": {},
   "outputs": [],
   "source": [
    "# count() method returns the number of occurrences of the substring in the given string.\n",
    "x = \"Welcome to python basics\"\n",
    "y = \"o\"\n",
    "\n",
    "count = x.count(y)\n",
    "\n",
    "# print count\n",
    "print(\"The count is:\", count)"
   ]
  },
  {
   "cell_type": "code",
   "execution_count": null,
   "metadata": {},
   "outputs": [],
   "source": [
    "# Count number of occurrences of a given substring using start and end\n",
    "# define string\n",
    "string = \"Python is awesome, isn't it\"\n",
    "string[6]\n",
    "string[25]"
   ]
  },
  {
   "cell_type": "code",
   "execution_count": null,
   "metadata": {},
   "outputs": [],
   "source": [
    "substring = \"i\"\n",
    "\n",
    "# count after first 'i' and before the last 'i'\n",
    "count = string.count(substring, 6, 25)\n",
    "count\n",
    "\n",
    "# print count\n",
    "print(\"The count is:\", count)"
   ]
  },
  {
   "cell_type": "code",
   "execution_count": null,
   "metadata": {},
   "outputs": [],
   "source": [
    "# Returns true if string has at least 1 character and all characters are alphanumeric and false otherwise.\n",
    "\n",
    "Num = \"M234567onica\"  # No space in this string\n",
    "print(Num.isalnum())"
   ]
  },
  {
   "cell_type": "code",
   "execution_count": null,
   "metadata": {},
   "outputs": [],
   "source": [
    "Num.isnumeric()"
   ]
  },
  {
   "cell_type": "code",
   "execution_count": null,
   "metadata": {},
   "outputs": [],
   "source": [
    "Num = \"this is string example hi!!!\"\n",
    "Num.isalnum()"
   ]
  },
  {
   "cell_type": "code",
   "execution_count": null,
   "metadata": {},
   "outputs": [],
   "source": [
    "Num = \"THIS IS STRING EXAMPLE!!!\"\n",
    "Num.lower()\n"
   ]
  },
  {
   "cell_type": "code",
   "execution_count": null,
   "metadata": {},
   "outputs": [],
   "source": [
    "Num = \"this is string example hi!!!\"\n",
    "Num.upper()"
   ]
  },
  {
   "cell_type": "code",
   "execution_count": null,
   "metadata": {},
   "outputs": [],
   "source": [
    "# The following example shows the usage of replace() method.\n",
    "\n",
    "reply = \"it is string example!!! is really a string\"\n",
    "print(reply.replace(\"is\", \"was\"))"
   ]
  },
  {
   "cell_type": "code",
   "execution_count": null,
   "metadata": {},
   "outputs": [],
   "source": [
    "print(reply.replace(\"is\", \"was\", 1))"
   ]
  },
  {
   "cell_type": "code",
   "execution_count": null,
   "metadata": {},
   "outputs": [],
   "source": [
    "# The following example shows the usage of split() method.\n",
    "A = \"Line1-abcdef\\nLine2-abc\\nLine4-abcd\"\n",
    "print(A.split(\"\\n\"))\n"
   ]
  },
  {
   "cell_type": "code",
   "execution_count": null,
   "metadata": {},
   "outputs": [],
   "source": [
    "novel=\"Harry Potter is a film series based on the eponymous novels by J. K. Rowling. The series is distributed by Warner Bros. and consists of eight fantasy films, beginning with Harry Potter and the Philosopher's Stone and culminating with Harry Potter and the Deathly Hallows\"\n",
    "novel\n",
    "novel.split(' ')"
   ]
  },
  {
   "cell_type": "code",
   "execution_count": null,
   "metadata": {},
   "outputs": [],
   "source": [
    "\n",
    "\n",
    "\n",
    "\n",
    "\n",
    "\n",
    "\n",
    "\n",
    "\n",
    "\n",
    "\n",
    "\n",
    "\n",
    "\n",
    "Num = \"this is string example 0909090\"\n",
    "Num.isalnum()\n",
    "\n",
    "Num = \"123\"\n",
    "Num.isalnum()\n",
    "# This method returns true if all characters in the string are alphabetic and there is at least one character, false otherwise.\n",
    "Num = \"this\"  # No space & digit in this string\n",
    "Num.isalpha()\n",
    "\n",
    "\n",
    "# This method returns true if all characters in the string are digits and there is at least one character, false otherwise.\n",
    "\n",
    "Num = \"123456\"  # Only digit in this string\n",
    "Num.isdigit()\n",
    "\n",
    "Num = \"this is string example!!!\"\n",
    "Num.isdigit()\n",
    "\n",
    "# his method returns a copy of the string in which all case-based characters have been lowercased.\n",
    "Num = \"THIS IS STRING EXAMPLE!!!\"\n",
    "Num.lower()\n",
    "\n",
    "# his method returns a copy of the string in which all case-based characters have been Uppercase.\n",
    "Num = \"this is string example!!!\"\n",
    "\n",
    "Num.upper()\n",
    "\n",
    "\n",
    "\n",
    "\n",
    "\n",
    "\n",
    "\n",
    "\n"
   ]
  },
  {
   "cell_type": "code",
   "execution_count": null,
   "metadata": {},
   "outputs": [],
   "source": []
  },
  {
   "cell_type": "code",
   "execution_count": null,
   "metadata": {},
   "outputs": [],
   "source": []
  },
  {
   "cell_type": "code",
   "execution_count": null,
   "metadata": {},
   "outputs": [],
   "source": []
  },
  {
   "cell_type": "code",
   "execution_count": null,
   "metadata": {},
   "outputs": [],
   "source": []
  },
  {
   "cell_type": "code",
   "execution_count": null,
   "metadata": {},
   "outputs": [],
   "source": []
  },
  {
   "cell_type": "code",
   "execution_count": null,
   "metadata": {},
   "outputs": [],
   "source": [
    "\n"
   ]
  },
  {
   "cell_type": "code",
   "execution_count": null,
   "metadata": {},
   "outputs": [],
   "source": [
    "a={'dogs','cats','tigers','lions','parrots'}\n",
    "b={'parrots','chickens','tigers','goats','chickens'}\n",
    "c=set(['dogs','cats','parrots'])\n",
    "allanimals=a|b\n",
    "print(allanimals)\n",
    "allanimals=a&b\n",
    "print(allanimals)\n",
    "allanimals=a-b\n",
    "print(allanimals)\n",
    "allanimals=(a<=b)\n",
    "print(allanimals)\n",
    "allanimals=(a>=c)\n",
    "print(allanimals)\n",
    "allanimals=a^b\n",
    "print(allanimals)\n"
   ]
  },
  {
   "cell_type": "code",
   "execution_count": null,
   "metadata": {},
   "outputs": [],
   "source": [
    "GroupA=set([\"Raju\",\"Mani\",\"Mallu\",\"Rani\"])\n",
    "GroupB=set([\"Raju\",\"Mani\",\"Mallu\",\"Anil\",\"Kiran\",\"Anup\"])\n",
    "Students=(GroupA<=GroupB)\n",
    "print(Students)\n",
    "Students=(GroupA>=GroupB)\n",
    "print(Students)\n",
    "Students=(GroupA^GroupB)\n",
    "print(Students)\n",
    "ClassA=set([\"Andy\",\"Sandy\",\"Sunil\",\"Pooja\"])\n",
    "print(ClassA)\n",
    "ClassA.add(\"Anup\")\n",
    "print(ClassA)\n"
   ]
  },
  {
   "cell_type": "code",
   "execution_count": null,
   "metadata": {},
   "outputs": [],
   "source": [
    "colors1 = {'Red','Green','Blue','Brown','Black'}\n",
    "print(colors1)\n",
    "colors2 = {'White','Red','Magenta','Purple','Green'}\n",
    "print(colors2)\n",
    "colors3 = set(['Grey','Ochre'])\n",
    "colors3.add(\"Pink\")\n",
    "print(colors3)\n",
    "colors4=(colors1|colors2)\n",
    "print(colors4)\n",
    "colors4=(colors1-colors2)\n",
    "print(colors4)\n",
    "colors4=(colors1<=colors2)\n",
    "print(colors4)\n",
    "colors4=(colors1^colors2)\n",
    "print(colors4)\n"
   ]
  }
 ],
 "metadata": {
  "kernelspec": {
   "display_name": "Python 3",
   "language": "python",
   "name": "python3"
  },
  "language_info": {
   "codemirror_mode": {
    "name": "ipython",
    "version": 3
   },
   "file_extension": ".py",
   "mimetype": "text/x-python",
   "name": "python",
   "nbconvert_exporter": "python",
   "pygments_lexer": "ipython3",
   "version": "3.8.8"
  }
 },
 "nbformat": 4,
 "nbformat_minor": 4
}
